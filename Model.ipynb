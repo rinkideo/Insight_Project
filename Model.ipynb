{
 "cells": [
  {
   "cell_type": "code",
   "execution_count": 5,
   "metadata": {},
   "outputs": [],
   "source": [
    "import pandas as pd\n",
    "import numpy as np\n",
    "import matplotlib.pyplot as plt\n",
    "%matplotlib inline\n",
    "import seaborn as sns\n",
    "import pickle \n",
    "\n",
    "from sklearn.model_selection import train_test_split,KFold, cross_val_score,GridSearchCV,cross_val_predict,RepeatedStratifiedKFold\n",
    "\n",
    "from sklearn.linear_model import LogisticRegression\n",
    "from sklearn.ensemble import RandomForestClassifier\n",
    "from xgboost.sklearn import XGBClassifier\n",
    "\n",
    "from sklearn.metrics import f1_score, accuracy_score,classification_report, confusion_matrix,precision_score,recall_score,roc_auc_score\n",
    "from sklearn.metrics import plot_confusion_matrix, precision_recall_curve\n",
    "from sklearn.metrics import plot_precision_recall_curve\n",
    "from sklearn.metrics import plot_roc_curve,auc,roc_curve\n",
    "\n",
    "from sklearn.feature_selection import RFE\n",
    "\n",
    "\n"
   ]
  },
  {
   "cell_type": "markdown",
   "metadata": {},
   "source": [
    "## Loading the clean data "
   ]
  },
  {
   "cell_type": "code",
   "execution_count": 6,
   "metadata": {},
   "outputs": [],
   "source": [
    "df_2018= pd.read_csv('fin_inpdata2018.csv')\n",
    "\n",
    "df_2017= pd.read_csv('fin_inpdata2017.csv')\n",
    "\n",
    "df=pd.concat([df_2018, df_2017], axis=0)"
   ]
  },
  {
   "cell_type": "code",
   "execution_count": 7,
   "metadata": {},
   "outputs": [
    {
     "data": {
      "text/html": [
       "<div>\n",
       "<style scoped>\n",
       "    .dataframe tbody tr th:only-of-type {\n",
       "        vertical-align: middle;\n",
       "    }\n",
       "\n",
       "    .dataframe tbody tr th {\n",
       "        vertical-align: top;\n",
       "    }\n",
       "\n",
       "    .dataframe thead th {\n",
       "        text-align: right;\n",
       "    }\n",
       "</style>\n",
       "<table border=\"1\" class=\"dataframe\">\n",
       "  <thead>\n",
       "    <tr style=\"text-align: right;\">\n",
       "      <th></th>\n",
       "      <th>MAGER</th>\n",
       "      <th>PRIORLIVE</th>\n",
       "      <th>PRIORDEAD</th>\n",
       "      <th>PRIORTERM</th>\n",
       "      <th>LBO_REC</th>\n",
       "      <th>TBO_REC</th>\n",
       "      <th>ILLB_R11</th>\n",
       "      <th>ILP_R11</th>\n",
       "      <th>PRECARE</th>\n",
       "      <th>PREVIS</th>\n",
       "      <th>...</th>\n",
       "      <th>RF_INFTR</th>\n",
       "      <th>RF_FEDRG</th>\n",
       "      <th>RF_ARTEC</th>\n",
       "      <th>RF_CESARN</th>\n",
       "      <th>IP_GON</th>\n",
       "      <th>IP_SYPH</th>\n",
       "      <th>IP_CHLAM</th>\n",
       "      <th>IP_HEPATB</th>\n",
       "      <th>IP_HEPATC</th>\n",
       "      <th>comb</th>\n",
       "    </tr>\n",
       "  </thead>\n",
       "  <tbody>\n",
       "    <tr>\n",
       "      <th>0</th>\n",
       "      <td>26</td>\n",
       "      <td>1</td>\n",
       "      <td>0</td>\n",
       "      <td>0</td>\n",
       "      <td>2</td>\n",
       "      <td>2</td>\n",
       "      <td>5</td>\n",
       "      <td>5</td>\n",
       "      <td>2</td>\n",
       "      <td>13</td>\n",
       "      <td>...</td>\n",
       "      <td>N</td>\n",
       "      <td>X</td>\n",
       "      <td>X</td>\n",
       "      <td>0</td>\n",
       "      <td>N</td>\n",
       "      <td>N</td>\n",
       "      <td>N</td>\n",
       "      <td>N</td>\n",
       "      <td>N</td>\n",
       "      <td>0</td>\n",
       "    </tr>\n",
       "    <tr>\n",
       "      <th>1</th>\n",
       "      <td>29</td>\n",
       "      <td>2</td>\n",
       "      <td>0</td>\n",
       "      <td>0</td>\n",
       "      <td>3</td>\n",
       "      <td>3</td>\n",
       "      <td>6</td>\n",
       "      <td>6</td>\n",
       "      <td>2</td>\n",
       "      <td>14</td>\n",
       "      <td>...</td>\n",
       "      <td>N</td>\n",
       "      <td>X</td>\n",
       "      <td>X</td>\n",
       "      <td>0</td>\n",
       "      <td>N</td>\n",
       "      <td>N</td>\n",
       "      <td>N</td>\n",
       "      <td>N</td>\n",
       "      <td>N</td>\n",
       "      <td>0</td>\n",
       "    </tr>\n",
       "    <tr>\n",
       "      <th>2</th>\n",
       "      <td>31</td>\n",
       "      <td>3</td>\n",
       "      <td>0</td>\n",
       "      <td>1</td>\n",
       "      <td>4</td>\n",
       "      <td>5</td>\n",
       "      <td>4</td>\n",
       "      <td>2</td>\n",
       "      <td>3</td>\n",
       "      <td>10</td>\n",
       "      <td>...</td>\n",
       "      <td>N</td>\n",
       "      <td>X</td>\n",
       "      <td>X</td>\n",
       "      <td>0</td>\n",
       "      <td>N</td>\n",
       "      <td>N</td>\n",
       "      <td>N</td>\n",
       "      <td>N</td>\n",
       "      <td>N</td>\n",
       "      <td>0</td>\n",
       "    </tr>\n",
       "    <tr>\n",
       "      <th>3</th>\n",
       "      <td>34</td>\n",
       "      <td>0</td>\n",
       "      <td>0</td>\n",
       "      <td>2</td>\n",
       "      <td>1</td>\n",
       "      <td>3</td>\n",
       "      <td>9</td>\n",
       "      <td>8</td>\n",
       "      <td>3</td>\n",
       "      <td>13</td>\n",
       "      <td>...</td>\n",
       "      <td>N</td>\n",
       "      <td>X</td>\n",
       "      <td>X</td>\n",
       "      <td>0</td>\n",
       "      <td>N</td>\n",
       "      <td>N</td>\n",
       "      <td>N</td>\n",
       "      <td>N</td>\n",
       "      <td>N</td>\n",
       "      <td>1</td>\n",
       "    </tr>\n",
       "    <tr>\n",
       "      <th>4</th>\n",
       "      <td>24</td>\n",
       "      <td>0</td>\n",
       "      <td>0</td>\n",
       "      <td>0</td>\n",
       "      <td>1</td>\n",
       "      <td>1</td>\n",
       "      <td>9</td>\n",
       "      <td>9</td>\n",
       "      <td>2</td>\n",
       "      <td>12</td>\n",
       "      <td>...</td>\n",
       "      <td>N</td>\n",
       "      <td>X</td>\n",
       "      <td>X</td>\n",
       "      <td>0</td>\n",
       "      <td>N</td>\n",
       "      <td>N</td>\n",
       "      <td>N</td>\n",
       "      <td>N</td>\n",
       "      <td>N</td>\n",
       "      <td>0</td>\n",
       "    </tr>\n",
       "    <tr>\n",
       "      <th>...</th>\n",
       "      <td>...</td>\n",
       "      <td>...</td>\n",
       "      <td>...</td>\n",
       "      <td>...</td>\n",
       "      <td>...</td>\n",
       "      <td>...</td>\n",
       "      <td>...</td>\n",
       "      <td>...</td>\n",
       "      <td>...</td>\n",
       "      <td>...</td>\n",
       "      <td>...</td>\n",
       "      <td>...</td>\n",
       "      <td>...</td>\n",
       "      <td>...</td>\n",
       "      <td>...</td>\n",
       "      <td>...</td>\n",
       "      <td>...</td>\n",
       "      <td>...</td>\n",
       "      <td>...</td>\n",
       "      <td>...</td>\n",
       "      <td>...</td>\n",
       "    </tr>\n",
       "    <tr>\n",
       "      <th>46429</th>\n",
       "      <td>42</td>\n",
       "      <td>2</td>\n",
       "      <td>0</td>\n",
       "      <td>1</td>\n",
       "      <td>3</td>\n",
       "      <td>4</td>\n",
       "      <td>4</td>\n",
       "      <td>4</td>\n",
       "      <td>6</td>\n",
       "      <td>8</td>\n",
       "      <td>...</td>\n",
       "      <td>N</td>\n",
       "      <td>X</td>\n",
       "      <td>X</td>\n",
       "      <td>0</td>\n",
       "      <td>N</td>\n",
       "      <td>N</td>\n",
       "      <td>N</td>\n",
       "      <td>N</td>\n",
       "      <td>N</td>\n",
       "      <td>0</td>\n",
       "    </tr>\n",
       "    <tr>\n",
       "      <th>46430</th>\n",
       "      <td>28</td>\n",
       "      <td>0</td>\n",
       "      <td>0</td>\n",
       "      <td>0</td>\n",
       "      <td>1</td>\n",
       "      <td>1</td>\n",
       "      <td>9</td>\n",
       "      <td>9</td>\n",
       "      <td>5</td>\n",
       "      <td>7</td>\n",
       "      <td>...</td>\n",
       "      <td>N</td>\n",
       "      <td>X</td>\n",
       "      <td>X</td>\n",
       "      <td>0</td>\n",
       "      <td>N</td>\n",
       "      <td>N</td>\n",
       "      <td>N</td>\n",
       "      <td>N</td>\n",
       "      <td>N</td>\n",
       "      <td>0</td>\n",
       "    </tr>\n",
       "    <tr>\n",
       "      <th>46431</th>\n",
       "      <td>33</td>\n",
       "      <td>3</td>\n",
       "      <td>0</td>\n",
       "      <td>0</td>\n",
       "      <td>4</td>\n",
       "      <td>4</td>\n",
       "      <td>6</td>\n",
       "      <td>6</td>\n",
       "      <td>3</td>\n",
       "      <td>9</td>\n",
       "      <td>...</td>\n",
       "      <td>N</td>\n",
       "      <td>X</td>\n",
       "      <td>X</td>\n",
       "      <td>0</td>\n",
       "      <td>N</td>\n",
       "      <td>N</td>\n",
       "      <td>N</td>\n",
       "      <td>N</td>\n",
       "      <td>N</td>\n",
       "      <td>0</td>\n",
       "    </tr>\n",
       "    <tr>\n",
       "      <th>46432</th>\n",
       "      <td>34</td>\n",
       "      <td>0</td>\n",
       "      <td>0</td>\n",
       "      <td>0</td>\n",
       "      <td>1</td>\n",
       "      <td>1</td>\n",
       "      <td>9</td>\n",
       "      <td>9</td>\n",
       "      <td>2</td>\n",
       "      <td>12</td>\n",
       "      <td>...</td>\n",
       "      <td>N</td>\n",
       "      <td>X</td>\n",
       "      <td>X</td>\n",
       "      <td>0</td>\n",
       "      <td>N</td>\n",
       "      <td>N</td>\n",
       "      <td>N</td>\n",
       "      <td>N</td>\n",
       "      <td>N</td>\n",
       "      <td>0</td>\n",
       "    </tr>\n",
       "    <tr>\n",
       "      <th>46433</th>\n",
       "      <td>34</td>\n",
       "      <td>7</td>\n",
       "      <td>0</td>\n",
       "      <td>1</td>\n",
       "      <td>8</td>\n",
       "      <td>8</td>\n",
       "      <td>3</td>\n",
       "      <td>3</td>\n",
       "      <td>7</td>\n",
       "      <td>7</td>\n",
       "      <td>...</td>\n",
       "      <td>N</td>\n",
       "      <td>X</td>\n",
       "      <td>X</td>\n",
       "      <td>0</td>\n",
       "      <td>N</td>\n",
       "      <td>N</td>\n",
       "      <td>N</td>\n",
       "      <td>N</td>\n",
       "      <td>N</td>\n",
       "      <td>0</td>\n",
       "    </tr>\n",
       "  </tbody>\n",
       "</table>\n",
       "<p>85813 rows × 37 columns</p>\n",
       "</div>"
      ],
      "text/plain": [
       "       MAGER  PRIORLIVE  PRIORDEAD  PRIORTERM  LBO_REC  TBO_REC  ILLB_R11  \\\n",
       "0         26          1          0          0        2        2         5   \n",
       "1         29          2          0          0        3        3         6   \n",
       "2         31          3          0          1        4        5         4   \n",
       "3         34          0          0          2        1        3         9   \n",
       "4         24          0          0          0        1        1         9   \n",
       "...      ...        ...        ...        ...      ...      ...       ...   \n",
       "46429     42          2          0          1        3        4         4   \n",
       "46430     28          0          0          0        1        1         9   \n",
       "46431     33          3          0          0        4        4         6   \n",
       "46432     34          0          0          0        1        1         9   \n",
       "46433     34          7          0          1        8        8         3   \n",
       "\n",
       "       ILP_R11  PRECARE  PREVIS  ... RF_INFTR  RF_FEDRG  RF_ARTEC  RF_CESARN  \\\n",
       "0            5        2      13  ...        N         X         X          0   \n",
       "1            6        2      14  ...        N         X         X          0   \n",
       "2            2        3      10  ...        N         X         X          0   \n",
       "3            8        3      13  ...        N         X         X          0   \n",
       "4            9        2      12  ...        N         X         X          0   \n",
       "...        ...      ...     ...  ...      ...       ...       ...        ...   \n",
       "46429        4        6       8  ...        N         X         X          0   \n",
       "46430        9        5       7  ...        N         X         X          0   \n",
       "46431        6        3       9  ...        N         X         X          0   \n",
       "46432        9        2      12  ...        N         X         X          0   \n",
       "46433        3        7       7  ...        N         X         X          0   \n",
       "\n",
       "       IP_GON  IP_SYPH  IP_CHLAM  IP_HEPATB  IP_HEPATC  comb  \n",
       "0           N        N         N          N          N     0  \n",
       "1           N        N         N          N          N     0  \n",
       "2           N        N         N          N          N     0  \n",
       "3           N        N         N          N          N     1  \n",
       "4           N        N         N          N          N     0  \n",
       "...       ...      ...       ...        ...        ...   ...  \n",
       "46429       N        N         N          N          N     0  \n",
       "46430       N        N         N          N          N     0  \n",
       "46431       N        N         N          N          N     0  \n",
       "46432       N        N         N          N          N     0  \n",
       "46433       N        N         N          N          N     0  \n",
       "\n",
       "[85813 rows x 37 columns]"
      ]
     },
     "execution_count": 7,
     "metadata": {},
     "output_type": "execute_result"
    }
   ],
   "source": [
    "df"
   ]
  },
  {
   "cell_type": "code",
   "execution_count": 8,
   "metadata": {},
   "outputs": [
    {
     "data": {
      "text/plain": [
       "0    93.568574\n",
       "1     6.431426\n",
       "Name: comb, dtype: float64"
      ]
     },
     "execution_count": 8,
     "metadata": {},
     "output_type": "execute_result"
    }
   ],
   "source": [
    "df['comb'].value_counts(normalize=True)*100"
   ]
  },
  {
   "cell_type": "code",
   "execution_count": 9,
   "metadata": {},
   "outputs": [],
   "source": [
    "X=df.iloc[:,0:36]\n",
    "y=df['comb']"
   ]
  },
  {
   "cell_type": "code",
   "execution_count": 10,
   "metadata": {},
   "outputs": [
    {
     "name": "stdout",
     "output_type": "stream",
     "text": [
      "21\n",
      "15\n",
      "NUMERICAL_FEATURES: ['MAGER', 'PRIORLIVE', 'PRIORDEAD', 'PRIORTERM', 'LBO_REC', 'TBO_REC', 'ILLB_R11', 'ILP_R11', 'PRECARE', 'PREVIS', 'CIG_0', 'CIG_1', 'CIG_2', 'CIG_3', 'M_HT_IN', 'BMI', 'PWGT_R', 'DWGT_R', 'WTGAIN', 'ILOP_R11', 'RF_CESARN']\n",
      "CATEGORICAL_FEATURES: ['WIC', 'RF_PDIAB', 'RF_GDIAB', 'RF_PHYPE', 'RF_GHYPE', 'RF_EHYPE', 'RF_PPTERM', 'RF_INFTR', 'RF_FEDRG', 'RF_ARTEC', 'IP_GON', 'IP_SYPH', 'IP_CHLAM', 'IP_HEPATB', 'IP_HEPATC']\n"
     ]
    }
   ],
   "source": [
    "# Numerical columns\n",
    "num_feat = X.select_dtypes(include='number').columns.to_list()\n",
    "\n",
    "# Categorical columns\n",
    "cat_feat = X.select_dtypes(include='object').columns.to_list()\n",
    "print(len(num_feat))\n",
    "print(len(cat_feat))\n",
    "print('NUMERICAL_FEATURES:',num_feat)\n",
    "print('CATEGORICAL_FEATURES:',cat_feat)"
   ]
  },
  {
   "cell_type": "markdown",
   "metadata": {},
   "source": [
    "## Feature Engineering"
   ]
  },
  {
   "cell_type": "markdown",
   "metadata": {},
   "source": [
    "Since The categorical features with risk factor and infection info have less imporatnce here we can combine them to one column each"
   ]
  },
  {
   "cell_type": "code",
   "execution_count": 12,
   "metadata": {},
   "outputs": [
    {
     "data": {
      "text/plain": [
       "Index(['MAGER', 'PRIORLIVE', 'PRIORDEAD', 'PRIORTERM', 'LBO_REC', 'TBO_REC',\n",
       "       'ILLB_R11', 'ILP_R11', 'PRECARE', 'PREVIS', 'M_HT_IN', 'BMI', 'PWGT_R',\n",
       "       'DWGT_R', 'WTGAIN', 'ILOP_R11', 'RF_CESARN', 'comb', 'RF', 'IP', 'SMK'],\n",
       "      dtype='object')"
      ]
     },
     "execution_count": 12,
     "metadata": {},
     "output_type": "execute_result"
    }
   ],
   "source": [
    "df_n = df.copy()\n",
    "\n",
    "df_n['RF']= df_n[['RF_PDIAB', 'RF_GDIAB', 'RF_PHYPE', 'RF_GHYPE', 'RF_EHYPE', 'RF_PPTERM', \n",
    "              'RF_INFTR', 'RF_FEDRG', 'RF_ARTEC']].isin(['Y']).sum(axis=1)\n",
    "\n",
    "df_n['RF'] = df_n['RF'].apply(lambda x: min(x,1))\n",
    "\n",
    "df_n['IP']= df_n[['IP_GON', 'IP_SYPH', 'IP_CHLAM', 'IP_HEPATB', 'IP_HEPATC']].isin(['Y']).sum(axis=1)\n",
    "\n",
    "df_n['IP'] = df_n['IP'].apply(lambda x: min(x,1))\n",
    "\n",
    "df_n = df_n.drop(['RF_PDIAB', 'RF_GDIAB', 'RF_PHYPE', 'RF_GHYPE', 'RF_EHYPE', 'RF_PPTERM', \n",
    "              'RF_INFTR', 'RF_FEDRG', 'RF_ARTEC','IP_GON', 'IP_SYPH', 'IP_CHLAM', 'IP_HEPATB', 'IP_HEPATC'],axis=1)\n",
    "\n",
    "### MAking 'WIC column to int with value 0 and 1'\n",
    "\n",
    "from sklearn.preprocessing import LabelEncoder\n",
    "le=LabelEncoder()\n",
    "for col in df_n.select_dtypes(include = ['object']).columns:\n",
    "    \n",
    "    le.fit(df_n[col].unique())\n",
    "    df_n.loc[:, col] = le.transform(df_n[col])\n",
    "\n",
    "df_n.columns\n",
    "\n",
    "## Combining CIG and WIC columns\n",
    "df_n['SMK']= df_n[['CIG_0', 'CIG_1',\n",
    "       'CIG_2', 'CIG_3','WIC']].sum(axis=1)\n",
    "\n",
    "\n",
    "df_n = df_n.drop(['CIG_0', 'CIG_1',\n",
    "       'CIG_2', 'CIG_3','WIC'],axis=1)\n",
    "\n",
    "df_n.columns"
   ]
  },
  {
   "cell_type": "code",
   "execution_count": 13,
   "metadata": {},
   "outputs": [],
   "source": [
    "##Reordering the columns\n",
    "df_n = df_n[['MAGER', 'PRIORLIVE', 'PRIORDEAD', 'PRIORTERM', 'LBO_REC', 'TBO_REC',\n",
    "       'ILLB_R11', 'ILP_R11', 'PRECARE', 'PREVIS', 'M_HT_IN', 'BMI', 'PWGT_R',\n",
    "       'DWGT_R', 'WTGAIN', 'ILOP_R11', 'RF_CESARN', 'RF', 'IP', 'SMK','comb']]"
   ]
  },
  {
   "cell_type": "code",
   "execution_count": 14,
   "metadata": {},
   "outputs": [
    {
     "data": {
      "text/plain": [
       "0    80294\n",
       "1     5519\n",
       "Name: comb, dtype: int64"
      ]
     },
     "execution_count": 14,
     "metadata": {},
     "output_type": "execute_result"
    }
   ],
   "source": [
    "df_n['comb'].value_counts(normalize=False)"
   ]
  },
  {
   "cell_type": "code",
   "execution_count": 15,
   "metadata": {},
   "outputs": [
    {
     "data": {
      "text/plain": [
       "(85813, 37)"
      ]
     },
     "execution_count": 15,
     "metadata": {},
     "output_type": "execute_result"
    }
   ],
   "source": [
    "df.shape"
   ]
  },
  {
   "cell_type": "code",
   "execution_count": 16,
   "metadata": {},
   "outputs": [],
   "source": [
    "df_n.to_csv('data1_fe.csv', index=False)"
   ]
  },
  {
   "cell_type": "markdown",
   "metadata": {},
   "source": [
    "## Baseline Model (Standard Logistic Regression model)"
   ]
  },
  {
   "cell_type": "code",
   "execution_count": 17,
   "metadata": {},
   "outputs": [],
   "source": [
    "df_tt= df_n.copy()"
   ]
  },
  {
   "cell_type": "code",
   "execution_count": 18,
   "metadata": {},
   "outputs": [],
   "source": [
    "X=df_tt.iloc[:,0:20]\n",
    "y=df_tt.comb\n",
    "\n",
    "X_train, X_test, y_train, y_test = train_test_split(X, y, test_size=0.2, random_state=68,stratify=y)"
   ]
  },
  {
   "cell_type": "code",
   "execution_count": 67,
   "metadata": {},
   "outputs": [
    {
     "name": "stdout",
     "output_type": "stream",
     "text": [
      "Mean ROC AUC: 0.619\n"
     ]
    }
   ],
   "source": [
    "### fitting a standard logistic regression model \n",
    "###baseline_modelling\n",
    "model_test = LogisticRegression(solver='lbfgs')\n",
    "\n",
    "#  evaluation procedure\n",
    "cv = RepeatedStratifiedKFold(n_splits=10, n_repeats=3, random_state=1)\n",
    "# evaluate model\n",
    "scores = cross_val_score(model_test, X_train, y_train, scoring='roc_auc', cv=cv, n_jobs=-1)\n",
    "# summarize performance\n",
    "print('Mean ROC AUC: %.3f' % np.mean(scores))"
   ]
  },
  {
   "cell_type": "code",
   "execution_count": 68,
   "metadata": {},
   "outputs": [
    {
     "name": "stdout",
     "output_type": "stream",
     "text": [
      "0.003597122302158273\n",
      "0.0018115942028985507\n",
      "0.25\n"
     ]
    },
    {
     "name": "stderr",
     "output_type": "stream",
     "text": [
      "C:\\Users\\rdeo\\anaconda3\\envs\\insight_prj\\lib\\site-packages\\sklearn\\linear_model\\_logistic.py:940: ConvergenceWarning: lbfgs failed to converge (status=1):\n",
      "STOP: TOTAL NO. of ITERATIONS REACHED LIMIT.\n",
      "\n",
      "Increase the number of iterations (max_iter) or scale the data as shown in:\n",
      "    https://scikit-learn.org/stable/modules/preprocessing.html\n",
      "Please also refer to the documentation for alternative solver options:\n",
      "    https://scikit-learn.org/stable/modules/linear_model.html#logistic-regression\n",
      "  extra_warning_msg=_LOGISTIC_SOLVER_CONVERGENCE_MSG)\n"
     ]
    }
   ],
   "source": [
    "model_test.fit(X_train,y_train);\n",
    "print(f1_score(y_test,model_test.predict(X_test)))\n",
    "print(recall_score(y_test,model_test.predict(X_test)))\n",
    "print(precision_score(y_test,model_test.predict(X_test)))"
   ]
  },
  {
   "cell_type": "markdown",
   "metadata": {},
   "source": [
    "## Weighted Logistic Regression model"
   ]
  },
  {
   "cell_type": "code",
   "execution_count": 19,
   "metadata": {},
   "outputs": [
    {
     "name": "stdout",
     "output_type": "stream",
     "text": [
      "[0.53436745 7.77432506]\n"
     ]
    }
   ],
   "source": [
    "##The weighting for class 1 is calculated as:\n",
    "#85813 / (2 * 5519)\n",
    "\n",
    "##The weighting for class 0 is calculated as:\n",
    "#85813 / (2 * 80294)\n",
    "\n",
    "# calculate heuristic class weighting\n",
    "from sklearn.utils.class_weight import compute_class_weight\n",
    "# calculate class weighting\n",
    "weighting = compute_class_weight('balanced', [0,1], y)\n",
    "print(weighting)"
   ]
  },
  {
   "cell_type": "code",
   "execution_count": 87,
   "metadata": {},
   "outputs": [
    {
     "name": "stdout",
     "output_type": "stream",
     "text": [
      "Mean ROC AUC: 0.630\n"
     ]
    }
   ],
   "source": [
    "# define model\n",
    "weights = {0:0.53, 1:7.78}\n",
    "model_test2 = LogisticRegression(solver='lbfgs', class_weight= 'balanced') ##can put class_weight=weights\n",
    "\n",
    "cv = RepeatedStratifiedKFold(n_splits=10, n_repeats=3, random_state=1)\n",
    "# evaluate model\n",
    "scores = cross_val_score(model_test2, X_train, y_train, scoring='roc_auc', cv=cv, n_jobs=-1)\n",
    "# summarize performance\n",
    "print('Mean ROC AUC: %.3f' % np.mean(scores))"
   ]
  },
  {
   "cell_type": "code",
   "execution_count": 88,
   "metadata": {},
   "outputs": [
    {
     "name": "stdout",
     "output_type": "stream",
     "text": [
      "f1_score 0.15800470096630975\n",
      "recall 0.5480072463768116\n",
      "precison 0.09231003967043028\n"
     ]
    },
    {
     "name": "stderr",
     "output_type": "stream",
     "text": [
      "C:\\Users\\rdeo\\anaconda3\\envs\\insight_prj\\lib\\site-packages\\sklearn\\linear_model\\_logistic.py:940: ConvergenceWarning: lbfgs failed to converge (status=1):\n",
      "STOP: TOTAL NO. of ITERATIONS REACHED LIMIT.\n",
      "\n",
      "Increase the number of iterations (max_iter) or scale the data as shown in:\n",
      "    https://scikit-learn.org/stable/modules/preprocessing.html\n",
      "Please also refer to the documentation for alternative solver options:\n",
      "    https://scikit-learn.org/stable/modules/linear_model.html#logistic-regression\n",
      "  extra_warning_msg=_LOGISTIC_SOLVER_CONVERGENCE_MSG)\n"
     ]
    }
   ],
   "source": [
    "model_test2.fit(X_train,y_train);\n",
    "print('f1_score', f1_score(y_test,model_test2.predict(X_test)))\n",
    "print('recall', recall_score(y_test,model_test2.predict(X_test)))\n",
    "print('precison', precision_score(y_test,model_test2.predict(X_test)))\n"
   ]
  },
  {
   "cell_type": "markdown",
   "metadata": {},
   "source": [
    "# Other weighted models"
   ]
  },
  {
   "cell_type": "markdown",
   "metadata": {},
   "source": [
    "### 1. XGB Classifier(weighted)"
   ]
  },
  {
   "cell_type": "code",
   "execution_count": 72,
   "metadata": {},
   "outputs": [
    {
     "name": "stdout",
     "output_type": "stream",
     "text": [
      "Mean ROC AUC: 0.592\n"
     ]
    }
   ],
   "source": [
    "class_weight = int(y.value_counts()[0]/y.value_counts()[1])\n",
    "\n",
    "model_test3 = XGBClassifier(scale_pos_weight=class_weight,seed=42) ##can put class_weight=weights\n",
    "\n",
    "cv = RepeatedStratifiedKFold(n_splits=10, n_repeats=3, random_state=1)\n",
    "# evaluate model\n",
    "scores = cross_val_score(model_test3, X, y, scoring='roc_auc', cv=cv, n_jobs=-1)\n",
    "# summarize performance\n",
    "print('Mean ROC AUC: %.3f' % np.mean(scores))"
   ]
  },
  {
   "cell_type": "code",
   "execution_count": 23,
   "metadata": {},
   "outputs": [
    {
     "name": "stdout",
     "output_type": "stream",
     "text": [
      "f1_score 0.15134915804422802\n",
      "recall 0.3378623188405797\n",
      "precison 0.09751633986928104\n"
     ]
    }
   ],
   "source": [
    "model_test3.fit(X_train,y_train);\n",
    "print('f1_score', f1_score(y_test,model_test3.predict(X_test)))\n",
    "print('recall', recall_score(y_test,model_test3.predict(X_test)))\n",
    "print('precison', precision_score(y_test,model_test3.predict(X_test)))"
   ]
  },
  {
   "cell_type": "markdown",
   "metadata": {},
   "source": [
    "### 2. Random Forest With Class Weighting"
   ]
  },
  {
   "cell_type": "code",
   "execution_count": 25,
   "metadata": {},
   "outputs": [
    {
     "name": "stdout",
     "output_type": "stream",
     "text": [
      "Mean ROC AUC: 0.558\n"
     ]
    }
   ],
   "source": [
    "# define model\n",
    "model_test4 = RandomForestClassifier(n_estimators=10, class_weight='balanced')\n",
    "# define evaluation procedure\n",
    "cv = RepeatedStratifiedKFold(n_splits=10, n_repeats=3, random_state=1)\n",
    "# evaluate model\n",
    "scores = cross_val_score(model_test4, X_train, y_train, scoring='roc_auc', cv=cv, n_jobs=-1)\n",
    "# summarize performance\n",
    "print('Mean ROC AUC: %.3f' % np.mean(scores))"
   ]
  },
  {
   "cell_type": "code",
   "execution_count": 26,
   "metadata": {},
   "outputs": [
    {
     "name": "stdout",
     "output_type": "stream",
     "text": [
      "f1_score 0.01929824561403509\n",
      "recall 0.009963768115942028\n",
      "precison 0.3055555555555556\n"
     ]
    }
   ],
   "source": [
    "model_test4.fit(X_train,y_train);\n",
    "print('f1_score', f1_score(y_test,model_test4.predict(X_test)))\n",
    "print('recall', recall_score(y_test,model_test4.predict(X_test)))\n",
    "print('precison', precision_score(y_test,model_test4.predict(X_test)))"
   ]
  },
  {
   "cell_type": "markdown",
   "metadata": {},
   "source": [
    "### 3. Random Forest With Bootstrap Class Weighting"
   ]
  },
  {
   "cell_type": "code",
   "execution_count": 27,
   "metadata": {},
   "outputs": [
    {
     "name": "stdout",
     "output_type": "stream",
     "text": [
      "Mean ROC AUC: 0.563\n"
     ]
    }
   ],
   "source": [
    "# define model\n",
    "model_test5 = RandomForestClassifier(n_estimators=10, class_weight='balanced_subsample')\n",
    "# define evaluation procedure\n",
    "cv = RepeatedStratifiedKFold(n_splits=10, n_repeats=3, random_state=1)\n",
    "# evaluate model\n",
    "scores = cross_val_score(model_test5, X_train, y_train, scoring='roc_auc', cv=cv, n_jobs=-1)\n",
    "# summarize performance\n",
    "print('Mean ROC AUC: %.3f' % np.mean(scores))"
   ]
  },
  {
   "cell_type": "code",
   "execution_count": 28,
   "metadata": {},
   "outputs": [
    {
     "name": "stdout",
     "output_type": "stream",
     "text": [
      "f1_score 0.014134275618374558\n",
      "recall 0.007246376811594203\n",
      "precison 0.2857142857142857\n"
     ]
    }
   ],
   "source": [
    "model_test5.fit(X_train,y_train);\n",
    "print('f1_score', f1_score(y_test,model_test5.predict(X_test)))\n",
    "print('recall', recall_score(y_test,model_test5.predict(X_test)))\n",
    "print('precison', precision_score(y_test,model_test5.predict(X_test)))"
   ]
  },
  {
   "cell_type": "markdown",
   "metadata": {},
   "source": [
    "# Hyperparameter Tuning for  weighted LR model"
   ]
  },
  {
   "cell_type": "code",
   "execution_count": null,
   "metadata": {},
   "outputs": [],
   "source": [
    "#### Takes lot of time \n",
    "# define hyperparameters\n",
    "# define hyperparameters\n",
    "w = [{0:1.0,1:10}, {0:1.0,1:14}, {0:1.0,1:15}, {0:1.0,1:18}, {0:1.0,1:20}]\n",
    "    crange = np.arange(10, 20.0, 1)\n",
    "hyperparam_grid = {\"class_weight\": w\n",
    "                   ,\"penalty\": [\"l1\", \"l2\"]\n",
    "                   ,\"C\": crange\n",
    "                   ,\"fit_intercept\": [True, False]  }\n",
    "# logistic model classifier\n",
    "lg4 = LogisticRegression(random_state=13)\n",
    "# define evaluation procedure\n",
    "grid = GridSearchCV(lg4,hyperparam_grid,scoring=\"roc_auc\", cv=100, n_jobs=-1, refit=True)\n",
    "grid.fit(X,y)\n",
    "print(f'Best score: {grid.best_score_} with param: {grid.best_params_}')"
   ]
  },
  {
   "cell_type": "markdown",
   "metadata": {},
   "source": [
    "###Best score: 0.6221195301716151 with param: {'C': 13.0, 'class_weight': {0: 1.0, 1: 18}, 'fit_intercept': True, 'penalty': 'l2'}"
   ]
  },
  {
   "cell_type": "markdown",
   "metadata": {},
   "source": [
    "## Evaluating LR model on test data with tuned parameters"
   ]
  },
  {
   "cell_type": "code",
   "execution_count": 21,
   "metadata": {},
   "outputs": [
    {
     "name": "stdout",
     "output_type": "stream",
     "text": [
      "Accuracy Score: 0.4143215055642953\n",
      "Confusion Matrix: \n",
      "[[6288 9771]\n",
      " [ 281  823]]\n",
      "Area Under Curve: 0.5685135756192519\n",
      "Recall score: 0.7454710144927537\n"
     ]
    },
    {
     "name": "stderr",
     "output_type": "stream",
     "text": [
      "C:\\Users\\rdeo\\anaconda3\\envs\\insight_prj\\lib\\site-packages\\sklearn\\linear_model\\_logistic.py:940: ConvergenceWarning: lbfgs failed to converge (status=1):\n",
      "STOP: TOTAL NO. of ITERATIONS REACHED LIMIT.\n",
      "\n",
      "Increase the number of iterations (max_iter) or scale the data as shown in:\n",
      "    https://scikit-learn.org/stable/modules/preprocessing.html\n",
      "Please also refer to the documentation for alternative solver options:\n",
      "    https://scikit-learn.org/stable/modules/linear_model.html#logistic-regression\n",
      "  extra_warning_msg=_LOGISTIC_SOLVER_CONVERGENCE_MSG)\n"
     ]
    }
   ],
   "source": [
    "# define model with best parameters \n",
    "lg4 = LogisticRegression(random_state=13,C=13.0,fit_intercept=True, penalty='l2',class_weight={0: 1, 1: 18} )\n",
    "# fit it\n",
    "lg4.fit(X_train,y_train)\n",
    "# test\n",
    "y_pred = lg4.predict(X_test)\n",
    "# performance\n",
    "print(f'Accuracy Score: {accuracy_score(y_test,y_pred)}')\n",
    "print(f'Confusion Matrix: \\n{confusion_matrix(y_test, y_pred)}')\n",
    "print(f'Area Under Curve: {roc_auc_score(y_test, y_pred)}') # 0.5\n",
    "print(f'Recall score: {recall_score(y_test,y_pred)}')"
   ]
  },
  {
   "cell_type": "markdown",
   "metadata": {},
   "source": [
    "### Plot ROC-AUC curve"
   ]
  },
  {
   "cell_type": "code",
   "execution_count": 22,
   "metadata": {},
   "outputs": [
    {
     "data": {
      "text/plain": [
       "[<matplotlib.lines.Line2D at 0x27034f64ec8>]"
      ]
     },
     "execution_count": 22,
     "metadata": {},
     "output_type": "execute_result"
    },
    {
     "data": {
      "image/png": "[encoded data removed]",
      "text/plain": [
       "<Figure size 432x288 with 1 Axes>"
      ]
     },
     "metadata": {
      "needs_background": "light"
     },
     "output_type": "display_data"
    }
   ],
   "source": [
    "plot_roc_curve(\n",
    "    lg4,\n",
    "    X_train,\n",
    "    y_train,\n",
    "    sample_weight=None,\n",
    "    drop_intermediate=True,\n",
    "    response_method='auto',\n",
    "    name=None,\n",
    "    ax=None\n",
    ")\n",
    "# plot no skill roc curve\n",
    "plt.plot([0, 1], [0, 1], linestyle='--', label='No Skill')"
   ]
  },
  {
   "cell_type": "code",
   "execution_count": 91,
   "metadata": {
    "scrolled": true
   },
   "outputs": [
    {
     "data": {
      "image/png": "[encoded data removed]",
      "text/plain": [
       "<Figure size 432x288 with 1 Axes>"
      ]
     },
     "metadata": {
      "needs_background": "light"
     },
     "output_type": "display_data"
    }
   ],
   "source": [
    "# predict probabilities\n",
    "yhat = lg4.predict_proba(X_test)\n",
    "# retrieve just the probabilities for the positive class\n",
    "pos_probs = yhat[:, 1]\n",
    "# plot no skill roc curve\n",
    "plt.plot([0, 1], [0, 1], linestyle='--', label='No Skill')\n",
    "# calculate roc curve for model\n",
    "fpr, tpr, _ = roc_curve(y_test, pos_probs)\n",
    "# plot model roc curve\n",
    "plt.plot(fpr, tpr, marker='.', label=\"LogisticReg(weighted)\")\n",
    "# axis labels\n",
    "plt.xlabel('False Positive Rate')\n",
    "plt.ylabel('True Positive Rate')\n",
    "# show the legend\n",
    "plt.legend()\n",
    "# show the plot\n",
    "plt.show()"
   ]
  },
  {
   "cell_type": "markdown",
   "metadata": {},
   "source": [
    "### Plot Confusion Matrix\n"
   ]
  },
  {
   "cell_type": "code",
   "execution_count": 92,
   "metadata": {},
   "outputs": [
    {
     "name": "stdout",
     "output_type": "stream",
     "text": [
      "confusion_matrix\n",
      "[[6288 9771]\n",
      " [ 281  823]]\n",
      "confusion matrix\n",
      "[[6288 9771]\n",
      " [ 281  823]]\n",
      "confusion matrix\n",
      "[[0.39155614 0.60844386]\n",
      " [0.25452899 0.74547101]]\n"
     ]
    },
    {
     "data": {
      "image/png": "[encoded data removed]",
      "text/plain": [
       "<Figure size 432x288 with 2 Axes>"
      ]
     },
     "metadata": {
      "needs_background": "light"
     },
     "output_type": "display_data"
    },
    {
     "data": {
      "image/png": "[encoded data removed]",
      "text/plain": [
       "<Figure size 432x288 with 2 Axes>"
      ]
     },
     "metadata": {
      "needs_background": "light"
     },
     "output_type": "display_data"
    }
   ],
   "source": [
    "conf_mat=confusion_matrix(y_test, lg4.predict(X_test))\n",
    "print('confusion_matrix')\n",
    "print(conf_mat)\n",
    "\n",
    " # Plot non-normalized confusion matrix\n",
    "titles_options = [(\"Confusion matrix\", None),\n",
    "              (\"Normalized confusion matrix\", 'true')]\n",
    "for title, normalize in titles_options:\n",
    "    disp = plot_confusion_matrix(lg4, X_test, y_test,\n",
    "                             cmap=plt.cm.Blues,\n",
    "                             normalize=normalize,values_format = '' )\n",
    "    disp.ax_.set_title(title)\n",
    "    print(\"confusion matrix\")\n",
    "    print(disp.confusion_matrix)\n",
    "\n",
    "plt.show()  "
   ]
  },
  {
   "cell_type": "markdown",
   "metadata": {},
   "source": [
    "### LR Model Feature importance\n",
    "The positive scores indicate a feature that predicts class 1, whereas the negative scores indicate a feature that predicts class 0"
   ]
  },
  {
   "cell_type": "code",
   "execution_count": 23,
   "metadata": {},
   "outputs": [
    {
     "name": "stdout",
     "output_type": "stream",
     "text": [
      "Feature: 0, Score: 0.01515\n",
      "Feature: 1, Score: -0.03882\n",
      "Feature: 2, Score: 0.00091\n",
      "Feature: 3, Score: 0.01194\n",
      "Feature: 4, Score: -0.04467\n",
      "Feature: 5, Score: -0.04041\n",
      "Feature: 6, Score: 0.04621\n",
      "Feature: 7, Score: 0.01981\n",
      "Feature: 8, Score: -0.11751\n",
      "Feature: 9, Score: -0.03941\n",
      "Feature: 10, Score: -0.00139\n",
      "Feature: 11, Score: 0.05867\n",
      "Feature: 12, Score: -0.00017\n",
      "Feature: 13, Score: -0.00509\n",
      "Feature: 14, Score: 0.00730\n",
      "Feature: 15, Score: -0.02660\n",
      "Feature: 16, Score: 0.03104\n",
      "Feature: 17, Score: 0.03357\n",
      "Feature: 18, Score: 0.00402\n",
      "Feature: 19, Score: 0.03235\n"
     ]
    },
    {
     "data": {
      "image/png": "[encoded data removed]",
      "text/plain": [
       "<Figure size 432x288 with 1 Axes>"
      ]
     },
     "metadata": {
      "needs_background": "light"
     },
     "output_type": "display_data"
    }
   ],
   "source": [
    "# get importance\n",
    "importance = lg4.coef_[0]\n",
    "# summarize feature importance\n",
    "for i,v in enumerate(importance):\n",
    "    print('Feature: %0d, Score: %.5f' % (i,v))\n",
    "# plot feature importance\n",
    "plt.barh([x for x in X_train.columns], importance)\n",
    "#plt.bar([x for x in range(len(importance))], importance)\n",
    "plt.xticks(rotation='vertical')\n",
    "plt.show()"
   ]
  },
  {
   "cell_type": "code",
   "execution_count": 24,
   "metadata": {},
   "outputs": [
    {
     "data": {
      "text/plain": [
       "<BarContainer object of 20 artists>"
      ]
     },
     "execution_count": 24,
     "metadata": {},
     "output_type": "execute_result"
    },
    {
     "data": {
      "image/png": "[encoded data removed]",
      "text/plain": [
       "<Figure size 432x288 with 1 Axes>"
      ]
     },
     "metadata": {
      "needs_background": "light"
     },
     "output_type": "display_data"
    }
   ],
   "source": [
    "## Sorting important features vbased on its abs values of weightage\n",
    "\n",
    "d = dict(zip(X_train.columns,(importance))) \n",
    "from collections import OrderedDict\n",
    "def keyfunc(t):\n",
    "    return abs(t[1])\n",
    "\n",
    "out = OrderedDict(sorted(d.items(), key=keyfunc,reverse=True))\n",
    "out1= dict(out)\n",
    "keys1 = list(out1.keys())\n",
    "values1 = list(out1.values())\n",
    "\n",
    "# plot feature importance\n",
    "plt.barh(keys1, values1)\n"
   ]
  },
  {
   "cell_type": "code",
   "execution_count": 26,
   "metadata": {},
   "outputs": [
    {
     "data": {
      "image/png": "[encoded data removed]",
      "text/plain": [
       "<Figure size 432x720 with 1 Axes>"
      ]
     },
     "metadata": {
      "needs_background": "light"
     },
     "output_type": "display_data"
    }
   ],
   "source": [
    "ff = pd.DataFrame.from_dict(d,orient='index',\n",
    "                       columns=['A'])\n",
    "\n",
    "ff['abs_imp']= abs(ff['A'])\n",
    "\n",
    "#plt.barh(ff.index, ff.abs_imp)\n",
    "\n",
    "dff= ff.iloc[0:20,:]\n",
    "plt.figure(figsize=(6,10))\n",
    "ax = plt.subplot()\n",
    "dff.sort_values('abs_imp', ascending=True)[['abs_imp']].plot.barh(ax=ax)\n",
    "ax.get_legend().remove()"
   ]
  },
  {
   "cell_type": "markdown",
   "metadata": {},
   "source": [
    "### ROC curve"
   ]
  },
  {
   "cell_type": "code",
   "execution_count": 96,
   "metadata": {},
   "outputs": [
    {
     "data": {
      "image/png": "[encoded data removed]",
      "text/plain": [
       "<Figure size 432x288 with 1 Axes>"
      ]
     },
     "metadata": {
      "needs_background": "light"
     },
     "output_type": "display_data"
    }
   ],
   "source": [
    "fpr, tpr, thresholds = roc_curve(y_test, lg4.predict(X_test),pos_label=1)\n",
    "          \n",
    "    # plot model roc curve\n",
    "plt.plot(fpr, tpr, marker='.', label='LR')\n",
    "    # axis labels\n",
    "plt.xlabel('False Positive Rate')\n",
    "plt.ylabel('True Positive Rate')\n",
    "    # show the legend\n",
    "plt.legend()\n",
    "    # show the plot\n",
    "plt.show()      \n",
    "          "
   ]
  },
  {
   "cell_type": "markdown",
   "metadata": {},
   "source": [
    "## Prediction-Recall vs Threshold"
   ]
  },
  {
   "cell_type": "code",
   "execution_count": 97,
   "metadata": {},
   "outputs": [
    {
     "data": {
      "text/plain": [
       "(0, 1)"
      ]
     },
     "execution_count": 97,
     "metadata": {},
     "output_type": "execute_result"
    },
    {
     "data": {
      "image/png": "[encoded data removed]",
      "text/plain": [
       "<Figure size 576x432 with 1 Axes>"
      ]
     },
     "metadata": {
      "needs_background": "light"
     },
     "output_type": "display_data"
    }
   ],
   "source": [
    "predictions_lr = lg4.predict_proba(X_test)\n",
    "\n",
    "precision, recall, thresholds = precision_recall_curve(y_test, predictions_lr[:,1])\n",
    "plt.figure(figsize=(8,6))\n",
    "plt.title(\"Precision-Recall vs Threshold Chart\")\n",
    "plt.plot(thresholds, precision[: -1], \"b--\", label=\"Precision\")\n",
    "plt.plot(thresholds, recall[: -1], \"r--\", label=\"Recall\")\n",
    "plt.ylabel(\"Precision, Recall\")\n",
    "plt.xlabel(\"Threshold\")\n",
    "plt.legend(loc=\"upper center\")\n",
    "plt.ylim([0,1])"
   ]
  },
  {
   "cell_type": "code",
   "execution_count": 98,
   "metadata": {},
   "outputs": [
    {
     "name": "stdout",
     "output_type": "stream",
     "text": [
      "[[ 1293 14766]\n",
      " [   65  1039]]\n",
      "\n",
      "              precision    recall  f1-score   support\n",
      "\n",
      "           0       0.95      0.08      0.15     16059\n",
      "           1       0.07      0.94      0.12      1104\n",
      "\n",
      "    accuracy                           0.14     17163\n",
      "   macro avg       0.51      0.51      0.14     17163\n",
      "weighted avg       0.90      0.14      0.15     17163\n",
      "\n"
     ]
    }
   ],
   "source": [
    "## using threshold 0.6\n",
    "THRESHOLD = 0.4\n",
    "predictions_lr = np.where(lg4.predict_proba(X_test)[:,1] > THRESHOLD, 1, 0)\n",
    "\n",
    "\n",
    "print(confusion_matrix(y_test, predictions_lr))\n",
    "print()\n",
    "print(classification_report(y_test, predictions_lr))"
   ]
  },
  {
   "cell_type": "code",
   "execution_count": 109,
   "metadata": {},
   "outputs": [],
   "source": [
    "selector =RFE(lg4, n_features_to_select=5, step=1, verbose=0)"
   ]
  },
  {
   "cell_type": "code",
   "execution_count": 110,
   "metadata": {},
   "outputs": [
    {
     "name": "stderr",
     "output_type": "stream",
     "text": [
      "C:\\Users\\rdeo\\anaconda3\\envs\\insight_prj\\lib\\site-packages\\sklearn\\linear_model\\_logistic.py:940: ConvergenceWarning: lbfgs failed to converge (status=1):\n",
      "STOP: TOTAL NO. of ITERATIONS REACHED LIMIT.\n",
      "\n",
      "Increase the number of iterations (max_iter) or scale the data as shown in:\n",
      "    https://scikit-learn.org/stable/modules/preprocessing.html\n",
      "Please also refer to the documentation for alternative solver options:\n",
      "    https://scikit-learn.org/stable/modules/linear_model.html#logistic-regression\n",
      "  extra_warning_msg=_LOGISTIC_SOLVER_CONVERGENCE_MSG)\n",
      "C:\\Users\\rdeo\\anaconda3\\envs\\insight_prj\\lib\\site-packages\\sklearn\\linear_model\\_logistic.py:940: ConvergenceWarning: lbfgs failed to converge (status=1):\n",
      "STOP: TOTAL NO. of ITERATIONS REACHED LIMIT.\n",
      "\n",
      "Increase the number of iterations (max_iter) or scale the data as shown in:\n",
      "    https://scikit-learn.org/stable/modules/preprocessing.html\n",
      "Please also refer to the documentation for alternative solver options:\n",
      "    https://scikit-learn.org/stable/modules/linear_model.html#logistic-regression\n",
      "  extra_warning_msg=_LOGISTIC_SOLVER_CONVERGENCE_MSG)\n",
      "C:\\Users\\rdeo\\anaconda3\\envs\\insight_prj\\lib\\site-packages\\sklearn\\linear_model\\_logistic.py:940: ConvergenceWarning: lbfgs failed to converge (status=1):\n",
      "STOP: TOTAL NO. of ITERATIONS REACHED LIMIT.\n",
      "\n",
      "Increase the number of iterations (max_iter) or scale the data as shown in:\n",
      "    https://scikit-learn.org/stable/modules/preprocessing.html\n",
      "Please also refer to the documentation for alternative solver options:\n",
      "    https://scikit-learn.org/stable/modules/linear_model.html#logistic-regression\n",
      "  extra_warning_msg=_LOGISTIC_SOLVER_CONVERGENCE_MSG)\n",
      "C:\\Users\\rdeo\\anaconda3\\envs\\insight_prj\\lib\\site-packages\\sklearn\\linear_model\\_logistic.py:940: ConvergenceWarning: lbfgs failed to converge (status=1):\n",
      "STOP: TOTAL NO. of ITERATIONS REACHED LIMIT.\n",
      "\n",
      "Increase the number of iterations (max_iter) or scale the data as shown in:\n",
      "    https://scikit-learn.org/stable/modules/preprocessing.html\n",
      "Please also refer to the documentation for alternative solver options:\n",
      "    https://scikit-learn.org/stable/modules/linear_model.html#logistic-regression\n",
      "  extra_warning_msg=_LOGISTIC_SOLVER_CONVERGENCE_MSG)\n",
      "C:\\Users\\rdeo\\anaconda3\\envs\\insight_prj\\lib\\site-packages\\sklearn\\linear_model\\_logistic.py:940: ConvergenceWarning: lbfgs failed to converge (status=1):\n",
      "STOP: TOTAL NO. of ITERATIONS REACHED LIMIT.\n",
      "\n",
      "Increase the number of iterations (max_iter) or scale the data as shown in:\n",
      "    https://scikit-learn.org/stable/modules/preprocessing.html\n",
      "Please also refer to the documentation for alternative solver options:\n",
      "    https://scikit-learn.org/stable/modules/linear_model.html#logistic-regression\n",
      "  extra_warning_msg=_LOGISTIC_SOLVER_CONVERGENCE_MSG)\n",
      "C:\\Users\\rdeo\\anaconda3\\envs\\insight_prj\\lib\\site-packages\\sklearn\\linear_model\\_logistic.py:940: ConvergenceWarning: lbfgs failed to converge (status=1):\n",
      "STOP: TOTAL NO. of ITERATIONS REACHED LIMIT.\n",
      "\n",
      "Increase the number of iterations (max_iter) or scale the data as shown in:\n",
      "    https://scikit-learn.org/stable/modules/preprocessing.html\n",
      "Please also refer to the documentation for alternative solver options:\n",
      "    https://scikit-learn.org/stable/modules/linear_model.html#logistic-regression\n",
      "  extra_warning_msg=_LOGISTIC_SOLVER_CONVERGENCE_MSG)\n",
      "C:\\Users\\rdeo\\anaconda3\\envs\\insight_prj\\lib\\site-packages\\sklearn\\linear_model\\_logistic.py:940: ConvergenceWarning: lbfgs failed to converge (status=1):\n",
      "STOP: TOTAL NO. of ITERATIONS REACHED LIMIT.\n",
      "\n",
      "Increase the number of iterations (max_iter) or scale the data as shown in:\n",
      "    https://scikit-learn.org/stable/modules/preprocessing.html\n",
      "Please also refer to the documentation for alternative solver options:\n",
      "    https://scikit-learn.org/stable/modules/linear_model.html#logistic-regression\n",
      "  extra_warning_msg=_LOGISTIC_SOLVER_CONVERGENCE_MSG)\n",
      "C:\\Users\\rdeo\\anaconda3\\envs\\insight_prj\\lib\\site-packages\\sklearn\\linear_model\\_logistic.py:940: ConvergenceWarning: lbfgs failed to converge (status=1):\n",
      "STOP: TOTAL NO. of ITERATIONS REACHED LIMIT.\n",
      "\n",
      "Increase the number of iterations (max_iter) or scale the data as shown in:\n",
      "    https://scikit-learn.org/stable/modules/preprocessing.html\n",
      "Please also refer to the documentation for alternative solver options:\n",
      "    https://scikit-learn.org/stable/modules/linear_model.html#logistic-regression\n",
      "  extra_warning_msg=_LOGISTIC_SOLVER_CONVERGENCE_MSG)\n",
      "C:\\Users\\rdeo\\anaconda3\\envs\\insight_prj\\lib\\site-packages\\sklearn\\linear_model\\_logistic.py:940: ConvergenceWarning: lbfgs failed to converge (status=1):\n",
      "STOP: TOTAL NO. of ITERATIONS REACHED LIMIT.\n",
      "\n",
      "Increase the number of iterations (max_iter) or scale the data as shown in:\n",
      "    https://scikit-learn.org/stable/modules/preprocessing.html\n",
      "Please also refer to the documentation for alternative solver options:\n",
      "    https://scikit-learn.org/stable/modules/linear_model.html#logistic-regression\n",
      "  extra_warning_msg=_LOGISTIC_SOLVER_CONVERGENCE_MSG)\n",
      "C:\\Users\\rdeo\\anaconda3\\envs\\insight_prj\\lib\\site-packages\\sklearn\\linear_model\\_logistic.py:940: ConvergenceWarning: lbfgs failed to converge (status=1):\n",
      "STOP: TOTAL NO. of ITERATIONS REACHED LIMIT.\n",
      "\n",
      "Increase the number of iterations (max_iter) or scale the data as shown in:\n",
      "    https://scikit-learn.org/stable/modules/preprocessing.html\n",
      "Please also refer to the documentation for alternative solver options:\n",
      "    https://scikit-learn.org/stable/modules/linear_model.html#logistic-regression\n",
      "  extra_warning_msg=_LOGISTIC_SOLVER_CONVERGENCE_MSG)\n",
      "C:\\Users\\rdeo\\anaconda3\\envs\\insight_prj\\lib\\site-packages\\sklearn\\linear_model\\_logistic.py:940: ConvergenceWarning: lbfgs failed to converge (status=1):\n",
      "STOP: TOTAL NO. of ITERATIONS REACHED LIMIT.\n",
      "\n",
      "Increase the number of iterations (max_iter) or scale the data as shown in:\n",
      "    https://scikit-learn.org/stable/modules/preprocessing.html\n",
      "Please also refer to the documentation for alternative solver options:\n",
      "    https://scikit-learn.org/stable/modules/linear_model.html#logistic-regression\n",
      "  extra_warning_msg=_LOGISTIC_SOLVER_CONVERGENCE_MSG)\n",
      "C:\\Users\\rdeo\\anaconda3\\envs\\insight_prj\\lib\\site-packages\\sklearn\\linear_model\\_logistic.py:940: ConvergenceWarning: lbfgs failed to converge (status=1):\n",
      "STOP: TOTAL NO. of ITERATIONS REACHED LIMIT.\n",
      "\n",
      "Increase the number of iterations (max_iter) or scale the data as shown in:\n",
      "    https://scikit-learn.org/stable/modules/preprocessing.html\n",
      "Please also refer to the documentation for alternative solver options:\n",
      "    https://scikit-learn.org/stable/modules/linear_model.html#logistic-regression\n",
      "  extra_warning_msg=_LOGISTIC_SOLVER_CONVERGENCE_MSG)\n"
     ]
    },
    {
     "data": {
      "text/plain": [
       "RFE(estimator=LogisticRegression(C=13.0, class_weight={0: 1, 1: 18}, dual=False,\n",
       "                                 fit_intercept=True, intercept_scaling=1,\n",
       "                                 l1_ratio=None, max_iter=100,\n",
       "                                 multi_class='auto', n_jobs=None, penalty='l2',\n",
       "                                 random_state=13, solver='lbfgs', tol=0.0001,\n",
       "                                 verbose=0, warm_start=False),\n",
       "    n_features_to_select=5, step=1, verbose=0)"
      ]
     },
     "execution_count": 110,
     "metadata": {},
     "output_type": "execute_result"
    }
   ],
   "source": [
    "selector.fit(X_train, y_train)"
   ]
  },
  {
   "cell_type": "code",
   "execution_count": 111,
   "metadata": {},
   "outputs": [
    {
     "name": "stdout",
     "output_type": "stream",
     "text": [
      "Num Features: 5\n",
      "Selected Features: [False False  True False  True False False False False False False False\n",
      " False False False False  True  True  True False]\n",
      "Feature Ranking: [12  2  1  6  1  7  4 11  3  5 15  9 16 14 13 10  1  1  1  8]\n"
     ]
    }
   ],
   "source": [
    "print(\"Num Features: %d\" % selector.n_features_)\n",
    "print(\"Selected Features: %s\" % selector.support_)\n",
    "print(\"Feature Ranking: %s\" % selector.ranking_)"
   ]
  },
  {
   "cell_type": "code",
   "execution_count": 114,
   "metadata": {},
   "outputs": [
    {
     "name": "stdout",
     "output_type": "stream",
     "text": [
      "[7.568e+00 1.800e+02 8.085e-01 1.129e+00 2.005e+02 1.625e+02 2.583e+02\n",
      " 1.726e+02 1.658e+02 1.455e+01 1.484e+01 4.671e+01 2.415e+01 2.026e+01\n",
      " 8.643e-01 1.557e-03 1.112e+02 2.049e+02 6.206e+01 4.279e+02]\n",
      "[[2. 5. 0. 0.]\n",
      " [3. 6. 0. 0.]\n",
      " [4. 4. 0. 0.]\n",
      " [1. 9. 0. 1.]\n",
      " [1. 9. 0. 0.]]\n"
     ]
    }
   ],
   "source": [
    "from numpy import set_printoptions\n",
    "from sklearn.feature_selection import SelectKBest\n",
    "from sklearn.feature_selection import f_classif\n",
    "\n",
    "# feature extraction\n",
    "test = SelectKBest(score_func=f_classif, k=4)\n",
    "fit = test.fit(X_train, y_train)\n",
    "# summarize scores\n",
    "set_printoptions(precision=3)\n",
    "print(fit.scores_)\n",
    "features = fit.transform(X_train)\n",
    "# summarize selected features\n",
    "print(features[0:5,:])"
   ]
  },
  {
   "cell_type": "code",
   "execution_count": 115,
   "metadata": {},
   "outputs": [
    {
     "name": "stdout",
     "output_type": "stream",
     "text": [
      "Explained Variance: [0.846 0.102 0.016]\n",
      "[[ 1.109e-02  4.007e-03  6.554e-05  1.275e-03  3.678e-03  4.487e-03\n",
      "  -2.462e-03 -3.026e-03 -1.012e-03  6.013e-03  2.118e-02  1.009e-01\n",
      "   7.038e-01  7.027e-01  7.326e-04 -2.098e-03  2.516e-04  2.192e-04\n",
      "  -1.025e-05  3.631e-04]\n",
      " [ 5.616e-03 -1.377e-02 -2.671e-04 -1.296e-03 -1.306e-02 -1.324e-02\n",
      "   1.484e-02  1.317e-02 -7.689e-03  3.976e-02  2.765e-02 -8.817e-02\n",
      "  -4.041e-01  4.156e-01  8.078e-01  1.060e-03 -3.375e-04 -6.586e-04\n",
      "  -4.687e-05 -1.567e-02]\n",
      " [-2.092e-01 -3.466e-02 -2.820e-04 -6.012e-03 -3.118e-02 -3.303e-02\n",
      "   2.245e-02  2.540e-02 -2.254e-03 -5.930e-02 -1.234e-02  8.138e-03\n",
      "  -5.598e-03  8.912e-03  1.467e-02  1.485e-02  2.464e-04  6.791e-04\n",
      "   1.401e-03  9.734e-01]]\n"
     ]
    }
   ],
   "source": [
    "from sklearn.decomposition import PCA\n",
    "\n",
    "# feature extraction\n",
    "pca = PCA(n_components=3)\n",
    "fit = pca.fit(X_train)\n",
    "# summarize components\n",
    "print(\"Explained Variance: %s\" % fit.explained_variance_ratio_)\n",
    "print(fit.components_)"
   ]
  },
  {
   "cell_type": "markdown",
   "metadata": {},
   "source": [
    "## L1 Regularization"
   ]
  },
  {
   "cell_type": "code",
   "execution_count": 120,
   "metadata": {},
   "outputs": [
    {
     "name": "stdout",
     "output_type": "stream",
     "text": [
      "Accuracy Score: 0.6102080055934277\n",
      "Confusion Matrix: \n",
      "[[9832 6227]\n",
      " [ 463  641]]\n",
      "Area Under Curve: 0.5964291491700441\n",
      "Recall score: 0.5806159420289855\n"
     ]
    },
    {
     "name": "stderr",
     "output_type": "stream",
     "text": [
      "C:\\Users\\rdeo\\anaconda3\\envs\\insight_prj\\lib\\site-packages\\sklearn\\svm\\_base.py:947: ConvergenceWarning: Liblinear failed to converge, increase the number of iterations.\n",
      "  \"the number of iterations.\", ConvergenceWarning)\n"
     ]
    }
   ],
   "source": [
    "# define model with best parameters \n",
    "lg5 = LogisticRegression(solver='liblinear', random_state=13,C=13.0,fit_intercept=True, penalty='l1',class_weight={0: 1, 1: 15} )\n",
    "# fit it\n",
    "lg5.fit(X_train,y_train)\n",
    "# test\n",
    "y_pred = lg5.predict(X_test)\n",
    "# performance\n",
    "print(f'Accuracy Score: {accuracy_score(y_test,y_pred)}')\n",
    "print(f'Confusion Matrix: \\n{confusion_matrix(y_test, y_pred)}')\n",
    "print(f'Area Under Curve: {roc_auc_score(y_test, y_pred)}') # 0.5\n",
    "print(f'Recall score: {recall_score(y_test,y_pred)}')"
   ]
  },
  {
   "cell_type": "code",
   "execution_count": 118,
   "metadata": {},
   "outputs": [
    {
     "name": "stdout",
     "output_type": "stream",
     "text": [
      "Feature: 0, Score: 0.01297\n",
      "Feature: 1, Score: 0.08959\n",
      "Feature: 2, Score: 0.10814\n",
      "Feature: 3, Score: 0.05654\n",
      "Feature: 4, Score: -0.13261\n",
      "Feature: 5, Score: -0.10029\n",
      "Feature: 6, Score: 0.04749\n",
      "Feature: 7, Score: 0.01961\n",
      "Feature: 8, Score: -0.11701\n",
      "Feature: 9, Score: -0.04452\n",
      "Feature: 10, Score: -0.00896\n",
      "Feature: 11, Score: 0.04013\n",
      "Feature: 12, Score: 0.00432\n",
      "Feature: 13, Score: -0.00691\n",
      "Feature: 14, Score: 0.01032\n",
      "Feature: 15, Score: -0.02731\n",
      "Feature: 16, Score: 0.57647\n",
      "Feature: 17, Score: 0.75087\n",
      "Feature: 18, Score: 0.51249\n",
      "Feature: 19, Score: 0.02638\n"
     ]
    },
    {
     "data": {
      "image/png": "[encoded data removed]",
      "text/plain": [
       "<Figure size 432x288 with 1 Axes>"
      ]
     },
     "metadata": {
      "needs_background": "light"
     },
     "output_type": "display_data"
    }
   ],
   "source": [
    "# get importance\n",
    "importance1 = lg5.coef_[0]\n",
    "# summarize feature importance\n",
    "for i,v in enumerate(importance1):\n",
    "    print('Feature: %0d, Score: %.5f' % (i,v))\n",
    "# plot feature importance\n",
    "plt.barh([x for x in X_train.columns], importance1)\n",
    "#plt.bar([x for x in range(len(importance))], importance)\n",
    "plt.xticks(rotation='vertical')\n",
    "plt.show()"
   ]
  },
  {
   "cell_type": "code",
   "execution_count": 119,
   "metadata": {},
   "outputs": [
    {
     "data": {
      "text/plain": [
       "<BarContainer object of 20 artists>"
      ]
     },
     "execution_count": 119,
     "metadata": {},
     "output_type": "execute_result"
    },
    {
     "data": {
      "image/png": "[encoded data removed]",
      "text/plain": [
       "<Figure size 432x288 with 1 Axes>"
      ]
     },
     "metadata": {
      "needs_background": "light"
     },
     "output_type": "display_data"
    }
   ],
   "source": [
    "## Sorting important features vbased on its abs values of weightage\n",
    "\n",
    "d = dict(zip(X_train.columns,(importance1))) \n",
    "from collections import OrderedDict\n",
    "def keyfunc(t):\n",
    "    return abs(t[1])\n",
    "\n",
    "out11 = OrderedDict(sorted(d.items(), key=keyfunc,reverse=True))\n",
    "out2= dict(out11)\n",
    "keys11 = list(out2.keys())\n",
    "values11 = list(out2.values())\n",
    "\n",
    "# plot feature importance\n",
    "plt.barh(keys11, values11)\n"
   ]
  },
  {
   "cell_type": "markdown",
   "metadata": {},
   "source": [
    "## Scaling the data and evaluating the performance of tuned LR model"
   ]
  },
  {
   "cell_type": "code",
   "execution_count": 123,
   "metadata": {},
   "outputs": [
    {
     "name": "stdout",
     "output_type": "stream",
     "text": [
      "Accuracy Score: 0.5416885159937074\n",
      "Confusion Matrix: \n",
      "[[8574 7485]\n",
      " [ 381  723]]\n",
      "Area Under Curve: 0.5943987625792932\n",
      "Recall score: 0.654891304347826\n"
     ]
    },
    {
     "name": "stderr",
     "output_type": "stream",
     "text": [
      "C:\\Users\\rdeo\\anaconda3\\envs\\insight_prj\\lib\\site-packages\\sklearn\\linear_model\\_logistic.py:940: ConvergenceWarning: lbfgs failed to converge (status=1):\n",
      "STOP: TOTAL NO. of ITERATIONS REACHED LIMIT.\n",
      "\n",
      "Increase the number of iterations (max_iter) or scale the data as shown in:\n",
      "    https://scikit-learn.org/stable/modules/preprocessing.html\n",
      "Please also refer to the documentation for alternative solver options:\n",
      "    https://scikit-learn.org/stable/modules/linear_model.html#logistic-regression\n",
      "  extra_warning_msg=_LOGISTIC_SOLVER_CONVERGENCE_MSG)\n"
     ]
    }
   ],
   "source": [
    "from sklearn.preprocessing import MinMaxScaler\n",
    "scaler = MinMaxScaler()\n",
    "X_train_scl = scaler.fit_transform(X_train)\n",
    "X_test_scl = scaler.fit_transform(X_test)\n",
    "\n",
    "# define model with best parameters \n",
    "lg4 = LogisticRegression(random_state=13,C=13.0,fit_intercept=True, penalty='l2',class_weight={0: 1, 1: 18} )\n",
    "# fit it\n",
    "lg4.fit(X_train_scl,y_train)\n",
    "# test\n",
    "y_pred = lg4.predict(X_test_scl)\n",
    "# performance\n",
    "print(f'Accuracy Score: {accuracy_score(y_test,y_pred)}')\n",
    "print(f'Confusion Matrix: \\n{confusion_matrix(y_test, y_pred)}')\n",
    "print(f'Area Under Curve: {roc_auc_score(y_test, y_pred)}') # 0.5\n",
    "print(f'Recall score: {recall_score(y_test,y_pred)}')"
   ]
  },
  {
   "cell_type": "code",
   "execution_count": null,
   "metadata": {},
   "outputs": [],
   "source": []
  }
 ],
 "metadata": {
  "kernelspec": {
   "display_name": "insight_prj",
   "language": "python",
   "name": "insight_prj"
  },
  "language_info": {
   "codemirror_mode": {
    "name": "ipython",
    "version": 3
   },
   "file_extension": ".py",
   "mimetype": "text/x-python",
   "name": "python",
   "nbconvert_exporter": "python",
   "pygments_lexer": "ipython3",
   "version": "3.7.7"
  }
 },
 "nbformat": 4,
 "nbformat_minor": 4
}
