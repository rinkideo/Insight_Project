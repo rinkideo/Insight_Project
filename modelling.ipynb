{
 "cells": [
  {
   "cell_type": "code",
   "execution_count": 24,
   "metadata": {},
   "outputs": [],
   "source": [
    "import pandas as pd\n",
    "import numpy as np\n",
    "import matplotlib.pyplot as plt\n",
    "import seaborn as sns\n",
    "## Importing libraries for model Pipeline\n",
    "from sklearn.model_selection import train_test_split,KFold, cross_val_score\n",
    "from sklearn.impute import SimpleImputer\n",
    "from sklearn.pipeline import Pipeline\n",
    "\n",
    "from sklearn.preprocessing import StandardScaler, OneHotEncoder, MinMaxScaler\n",
    "from sklearn.compose import ColumnTransformer\n",
    "from sklearn.linear_model import LogisticRegression, LogisticRegressionCV\n",
    "from sklearn.svm import SVC\n",
    "from sklearn.tree import DecisionTreeClassifier\n",
    "from sklearn.ensemble import RandomForestClassifier\n",
    "#from sklearn.compose import ColumnTransformer\n",
    "\n",
    "from sklearn.model_selection import cross_val_score, cross_val_predict\n",
    "\n",
    "from sklearn.metrics import f1_score, accuracy_score,classification_report, confusion_matrix,precision_score,recall_score\n",
    "from sklearn.metrics import plot_confusion_matrix\n",
    "from sklearn.metrics import plot_precision_recall_curve\n",
    "from sklearn.metrics import plot_roc_curve,auc,roc_curve\n",
    "\n",
    "\n",
    "#import xgboost as xgb\n",
    "#from xgboost.sklearn import XGBClassifier\n",
    "#from sklearn.model_selection import GridSearchCV, cross_val_score, RandomizedSearchCV\n"
   ]
  },
  {
   "cell_type": "code",
   "execution_count": 4,
   "metadata": {},
   "outputs": [],
   "source": [
    "data=pd.read_csv('CSV2018Head1.csv')"
   ]
  },
  {
   "cell_type": "code",
   "execution_count": 5,
   "metadata": {},
   "outputs": [],
   "source": [
    "df = data[data['AB_NICU']!='U']"
   ]
  },
  {
   "cell_type": "code",
   "execution_count": 6,
   "metadata": {},
   "outputs": [],
   "source": [
    "#field_sel1 = pd.read_csv('field_sel.csv')\n",
    "##['DOB_YY', 'DOB_MM', 'DOB_TT', 'DOB_WK']\n",
    "\n",
    "field_sel=['BFACIL', 'MAGER9',\n",
    "       'MBSTATE_REC', 'RESTATUS', 'MRACE6', 'MHISP_R', 'DMAR', 'F_MEDUC',\n",
    "       'FAGEREC11', 'FRACE6', 'FHISP_R', 'FEDUC', 'PRIORTERM', 'ILLB_R11',\n",
    "       'PRECARE5', 'PREVIS_REC', 'CIG0_R', 'CIG1_R', 'CIG2_R', 'CIG3_R',\n",
    "       'M_Ht_In', 'PWgt_R', 'WTGAIN_REC', 'RF_PDIAB', 'RF_GDIAB', 'RF_PHYPE',\n",
    "       'RF_GHYPE', 'RF_EHYPE', 'RF_PPTERM', 'RF_INFTR', 'RF_FEDRG', 'RF_ARTEC',\n",
    "       'RF_CESAR', 'RF_CESARN', 'MRACE6', 'MHISP_R', 'DMAR', 'F_MEDUC',\n",
    "       'FAGEREC11', 'FRACE6', 'FHISP_R', 'FEDUC', 'PRIORTERM',\n",
    "       'ILLB_R11', 'PRECARE5', 'PREVIS_REC', 'CIG0_R', 'CIG1_R',\n",
    "       'CIG2_R', 'CIG3_R', 'M_Ht_In', 'PWgt_R', 'WTGAIN_REC',\n",
    "       'RF_PDIAB', 'RF_GDIAB', 'RF_PHYPE', 'RF_GHYPE', 'RF_EHYPE',\n",
    "       'RF_PPTERM', 'RF_INFTR', 'RF_FEDRG', 'RF_ARTEC', 'RF_CESAR',\n",
    "       'RF_CESARN']\n"
   ]
  },
  {
   "cell_type": "code",
   "execution_count": 7,
   "metadata": {},
   "outputs": [
    {
     "data": {
      "text/plain": [
       "Index(['BFACIL', 'MAGER9', 'MBSTATE_REC', 'RESTATUS', 'MRACE6', 'MHISP_R',\n",
       "       'DMAR', 'F_MEDUC', 'FAGEREC11', 'FRACE6', 'FHISP_R', 'FEDUC',\n",
       "       'PRIORTERM', 'ILLB_R11', 'PRECARE5', 'PREVIS_REC', 'CIG0_R', 'CIG1_R',\n",
       "       'CIG2_R', 'CIG3_R', 'M_Ht_In', 'PWgt_R', 'WTGAIN_REC', 'RF_PDIAB',\n",
       "       'RF_GDIAB', 'RF_PHYPE', 'RF_GHYPE', 'RF_EHYPE', 'RF_PPTERM', 'RF_INFTR',\n",
       "       'RF_FEDRG', 'RF_ARTEC', 'RF_CESAR', 'RF_CESARN', 'MRACE6', 'MHISP_R',\n",
       "       'DMAR', 'F_MEDUC', 'FAGEREC11', 'FRACE6', 'FHISP_R', 'FEDUC',\n",
       "       'PRIORTERM', 'ILLB_R11', 'PRECARE5', 'PREVIS_REC', 'CIG0_R', 'CIG1_R',\n",
       "       'CIG2_R', 'CIG3_R', 'M_Ht_In', 'PWgt_R', 'WTGAIN_REC', 'RF_PDIAB',\n",
       "       'RF_GDIAB', 'RF_PHYPE', 'RF_GHYPE', 'RF_EHYPE', 'RF_PPTERM', 'RF_INFTR',\n",
       "       'RF_FEDRG', 'RF_ARTEC', 'RF_CESAR', 'RF_CESARN'],\n",
       "      dtype='object')"
      ]
     },
     "execution_count": 7,
     "metadata": {},
     "output_type": "execute_result"
    }
   ],
   "source": [
    "X = df[field_sel]\n",
    "X.columns"
   ]
  },
  {
   "cell_type": "code",
   "execution_count": 8,
   "metadata": {},
   "outputs": [
    {
     "data": {
      "text/plain": [
       "0        N\n",
       "1        Y\n",
       "2        N\n",
       "3        N\n",
       "4        Y\n",
       "        ..\n",
       "19996    N\n",
       "19997    N\n",
       "19998    N\n",
       "19999    N\n",
       "20000    N\n",
       "Name: AB_NICU, Length: 19905, dtype: object"
      ]
     },
     "execution_count": 8,
     "metadata": {},
     "output_type": "execute_result"
    }
   ],
   "source": [
    "y_temp = df['AB_NICU']\n",
    "y_temp"
   ]
  },
  {
   "cell_type": "code",
   "execution_count": 9,
   "metadata": {},
   "outputs": [],
   "source": [
    "from sklearn.preprocessing import LabelEncoder\n",
    "\n",
    "lb = LabelEncoder() \n",
    "y1 = lb.fit_transform(y_temp)\n",
    "y=pd.Series(y1)\n",
    "y.name='AB_NICU'"
   ]
  },
  {
   "cell_type": "code",
   "execution_count": 10,
   "metadata": {},
   "outputs": [
    {
     "data": {
      "text/plain": [
       "0        0\n",
       "1        1\n",
       "2        0\n",
       "3        0\n",
       "4        1\n",
       "        ..\n",
       "19900    0\n",
       "19901    0\n",
       "19902    0\n",
       "19903    0\n",
       "19904    0\n",
       "Name: AB_NICU, Length: 19905, dtype: int32"
      ]
     },
     "execution_count": 10,
     "metadata": {},
     "output_type": "execute_result"
    }
   ],
   "source": [
    "y"
   ]
  },
  {
   "cell_type": "code",
   "execution_count": 11,
   "metadata": {},
   "outputs": [
    {
     "name": "stdout",
     "output_type": "stream",
     "text": [
      "<class 'pandas.core.frame.DataFrame'>\n",
      "Int64Index: 19905 entries, 0 to 20000\n",
      "Data columns (total 64 columns):\n",
      " #   Column       Non-Null Count  Dtype \n",
      "---  ------       --------------  ----- \n",
      " 0   BFACIL       19905 non-null  int64 \n",
      " 1   MAGER9       19905 non-null  int64 \n",
      " 2   MBSTATE_REC  19905 non-null  int64 \n",
      " 3   RESTATUS     19905 non-null  int64 \n",
      " 4   MRACE6       19905 non-null  int64 \n",
      " 5   MHISP_R      19905 non-null  int64 \n",
      " 6   DMAR         19905 non-null  int64 \n",
      " 7   F_MEDUC      19905 non-null  int64 \n",
      " 8   FAGEREC11    19905 non-null  int64 \n",
      " 9   FRACE6       19905 non-null  int64 \n",
      " 10  FHISP_R      19905 non-null  int64 \n",
      " 11  FEDUC        19905 non-null  int64 \n",
      " 12  PRIORTERM    19905 non-null  int64 \n",
      " 13  ILLB_R11     19905 non-null  int64 \n",
      " 14  PRECARE5     19905 non-null  int64 \n",
      " 15  PREVIS_REC   19905 non-null  int64 \n",
      " 16  CIG0_R       19905 non-null  int64 \n",
      " 17  CIG1_R       19905 non-null  int64 \n",
      " 18  CIG2_R       19905 non-null  int64 \n",
      " 19  CIG3_R       19905 non-null  int64 \n",
      " 20  M_Ht_In      19905 non-null  int64 \n",
      " 21  PWgt_R       19905 non-null  int64 \n",
      " 22  WTGAIN_REC   19905 non-null  int64 \n",
      " 23  RF_PDIAB     19905 non-null  object\n",
      " 24  RF_GDIAB     19905 non-null  object\n",
      " 25  RF_PHYPE     19905 non-null  object\n",
      " 26  RF_GHYPE     19905 non-null  object\n",
      " 27  RF_EHYPE     19905 non-null  object\n",
      " 28  RF_PPTERM    19905 non-null  object\n",
      " 29  RF_INFTR     19905 non-null  object\n",
      " 30  RF_FEDRG     19905 non-null  object\n",
      " 31  RF_ARTEC     19905 non-null  object\n",
      " 32  RF_CESAR     19905 non-null  object\n",
      " 33  RF_CESARN    19905 non-null  int64 \n",
      " 34  MRACE6       19905 non-null  int64 \n",
      " 35  MHISP_R      19905 non-null  int64 \n",
      " 36  DMAR         19905 non-null  int64 \n",
      " 37  F_MEDUC      19905 non-null  int64 \n",
      " 38  FAGEREC11    19905 non-null  int64 \n",
      " 39  FRACE6       19905 non-null  int64 \n",
      " 40  FHISP_R      19905 non-null  int64 \n",
      " 41  FEDUC        19905 non-null  int64 \n",
      " 42  PRIORTERM    19905 non-null  int64 \n",
      " 43  ILLB_R11     19905 non-null  int64 \n",
      " 44  PRECARE5     19905 non-null  int64 \n",
      " 45  PREVIS_REC   19905 non-null  int64 \n",
      " 46  CIG0_R       19905 non-null  int64 \n",
      " 47  CIG1_R       19905 non-null  int64 \n",
      " 48  CIG2_R       19905 non-null  int64 \n",
      " 49  CIG3_R       19905 non-null  int64 \n",
      " 50  M_Ht_In      19905 non-null  int64 \n",
      " 51  PWgt_R       19905 non-null  int64 \n",
      " 52  WTGAIN_REC   19905 non-null  int64 \n",
      " 53  RF_PDIAB     19905 non-null  object\n",
      " 54  RF_GDIAB     19905 non-null  object\n",
      " 55  RF_PHYPE     19905 non-null  object\n",
      " 56  RF_GHYPE     19905 non-null  object\n",
      " 57  RF_EHYPE     19905 non-null  object\n",
      " 58  RF_PPTERM    19905 non-null  object\n",
      " 59  RF_INFTR     19905 non-null  object\n",
      " 60  RF_FEDRG     19905 non-null  object\n",
      " 61  RF_ARTEC     19905 non-null  object\n",
      " 62  RF_CESAR     19905 non-null  object\n",
      " 63  RF_CESARN    19905 non-null  int64 \n",
      "dtypes: int64(44), object(20)\n",
      "memory usage: 9.9+ MB\n"
     ]
    }
   ],
   "source": [
    "X.info()"
   ]
  },
  {
   "cell_type": "code",
   "execution_count": 12,
   "metadata": {},
   "outputs": [
    {
     "name": "stdout",
     "output_type": "stream",
     "text": [
      "44\n",
      "20\n",
      "NUMERICAL_FEATURES: ['BFACIL', 'MAGER9', 'MBSTATE_REC', 'RESTATUS', 'MRACE6', 'MHISP_R', 'DMAR', 'F_MEDUC', 'FAGEREC11', 'FRACE6', 'FHISP_R', 'FEDUC', 'PRIORTERM', 'ILLB_R11', 'PRECARE5', 'PREVIS_REC', 'CIG0_R', 'CIG1_R', 'CIG2_R', 'CIG3_R', 'M_Ht_In', 'PWgt_R', 'WTGAIN_REC', 'RF_CESARN', 'MRACE6', 'MHISP_R', 'DMAR', 'F_MEDUC', 'FAGEREC11', 'FRACE6', 'FHISP_R', 'FEDUC', 'PRIORTERM', 'ILLB_R11', 'PRECARE5', 'PREVIS_REC', 'CIG0_R', 'CIG1_R', 'CIG2_R', 'CIG3_R', 'M_Ht_In', 'PWgt_R', 'WTGAIN_REC', 'RF_CESARN']\n",
      "CATEGORICAL_FEATURES: ['RF_PDIAB', 'RF_GDIAB', 'RF_PHYPE', 'RF_GHYPE', 'RF_EHYPE', 'RF_PPTERM', 'RF_INFTR', 'RF_FEDRG', 'RF_ARTEC', 'RF_CESAR', 'RF_PDIAB', 'RF_GDIAB', 'RF_PHYPE', 'RF_GHYPE', 'RF_EHYPE', 'RF_PPTERM', 'RF_INFTR', 'RF_FEDRG', 'RF_ARTEC', 'RF_CESAR']\n"
     ]
    }
   ],
   "source": [
    "# Numerical columns\n",
    "num_feat = X.select_dtypes(include='number').columns.to_list()\n",
    "\n",
    "# Categorical columns\n",
    "cat_feat = X.select_dtypes(include='object').columns.to_list()\n",
    "print(len(num_feat))\n",
    "print(len(cat_feat))\n",
    "print('NUMERICAL_FEATURES:',num_feat)\n",
    "print('CATEGORICAL_FEATURES:',cat_feat)"
   ]
  },
  {
   "cell_type": "code",
   "execution_count": 13,
   "metadata": {},
   "outputs": [],
   "source": [
    "X_train, X_test, y_train, y_test = train_test_split(X,\n",
    "                                                    y,\n",
    "                                                    test_size=0.2,\n",
    "                                                    random_state =42)"
   ]
  },
  {
   "cell_type": "code",
   "execution_count": 14,
   "metadata": {},
   "outputs": [
    {
     "name": "stdout",
     "output_type": "stream",
     "text": [
      "0    91.163024\n",
      "1     8.836976\n",
      "Name: AB_NICU, dtype: float64\n"
     ]
    },
    {
     "data": {
      "image/png": "[encoded data removed]",
      "text/plain": [
       "<Figure size 432x288 with 1 Axes>"
      ]
     },
     "metadata": {
      "needs_background": "light"
     },
     "output_type": "display_data"
    }
   ],
   "source": [
    "print(y.value_counts(normalize=True)*100)\n",
    "sns.countplot(y)\n",
    "plt.xlabel('Class')\n",
    "plt.ylabel('count')\n",
    "plt.title('Count of each target class')\n",
    "plt.grid(b= True, which='major', axis='both')"
   ]
  },
  {
   "cell_type": "markdown",
   "metadata": {},
   "source": [
    "### MVP"
   ]
  },
  {
   "cell_type": "code",
   "execution_count": 25,
   "metadata": {},
   "outputs": [],
   "source": [
    "num_pipe = Pipeline([\n",
    "    ('imputer', SimpleImputer(missing_values =0, strategy ='mean')),\n",
    "    ('scaler', StandardScaler())\n",
    "])\n",
    "\n",
    "cat_pipe = Pipeline([\n",
    "    ('imputer', SimpleImputer(strategy ='most_frequent')),\n",
    "    ('encoder', OneHotEncoder(handle_unknown= 'ignore'))\n",
    "    \n",
    "])\n",
    "\n",
    "ct = ColumnTransformer(remainder = 'drop',\n",
    "                      transformers=[\n",
    "                          ('numerical', num_pipe, num_feat),\n",
    "                          ('categorical', cat_pipe, cat_feat)\n",
    "                      ])\n",
    "\n",
    "##Logistic Regression\n",
    "model_1 = Pipeline([\n",
    "    ('ct', ct),\n",
    "    ('logreg_classifier', LogisticRegression(solver = 'lbfgs',multi_class='auto'))   \n",
    "])\n",
    "\n",
    "\n",
    "## Decision Tree\n",
    "model_2 = Pipeline([\n",
    "    ('ct', ct),\n",
    "    ('DT_classifier', DecisionTreeClassifier())   \n",
    "])\n",
    "\n",
    "## Random Forest\n",
    "model_3 = Pipeline([\n",
    "    ('ct', ct),\n",
    "    ('RF_classifier', RandomForestClassifier(n_jobs = -1))\n",
    "    \n",
    "])"
   ]
  },
  {
   "cell_type": "code",
   "execution_count": 26,
   "metadata": {},
   "outputs": [
    {
     "name": "stderr",
     "output_type": "stream",
     "text": [
      "C:\\Users\\rdeo\\anaconda3\\envs\\insight_prj\\lib\\site-packages\\sklearn\\linear_model\\_logistic.py:940: ConvergenceWarning: lbfgs failed to converge (status=1):\n",
      "STOP: TOTAL NO. of ITERATIONS REACHED LIMIT.\n",
      "\n",
      "Increase the number of iterations (max_iter) or scale the data as shown in:\n",
      "    https://scikit-learn.org/stable/modules/preprocessing.html\n",
      "Please also refer to the documentation for alternative solver options:\n",
      "    https://scikit-learn.org/stable/modules/linear_model.html#logistic-regression\n",
      "  extra_warning_msg=_LOGISTIC_SOLVER_CONVERGENCE_MSG)\n"
     ]
    },
    {
     "name": "stdout",
     "output_type": "stream",
     "text": [
      "=============================== Test Results for: logreg_classifier \n",
      "====================================================================================\n",
      "In-sample f1 score: 0.08283233132932533\n",
      "Out-sample f1 score: 0.08808290155440415\n",
      "              precision    recall  f1-score   support\n",
      "\n",
      "           0       0.91      1.00      0.95      3620\n",
      "           1       0.68      0.05      0.09       361\n",
      "\n",
      "    accuracy                           0.91      3981\n",
      "   macro avg       0.80      0.52      0.52      3981\n",
      "weighted avg       0.89      0.91      0.88      3981\n",
      "\n",
      "confusion_matrix\n",
      "[[3612    8]\n",
      " [ 344   17]]\n",
      "=============================== Test Results for: DT_classifier \n",
      "====================================================================================\n",
      "In-sample f1 score: 0.9996422182468694\n",
      "Out-sample f1 score: 0.20565552699228792\n",
      "              precision    recall  f1-score   support\n",
      "\n",
      "           0       0.92      0.91      0.91      3620\n",
      "           1       0.19      0.22      0.21       361\n",
      "\n",
      "    accuracy                           0.84      3981\n",
      "   macro avg       0.56      0.56      0.56      3981\n",
      "weighted avg       0.86      0.84      0.85      3981\n",
      "\n",
      "confusion_matrix\n",
      "[[3283  337]\n",
      " [ 281   80]]\n",
      "=============================== Test Results for: RF_classifier \n",
      "====================================================================================\n",
      "In-sample f1 score: 0.9996422182468694\n",
      "Out-sample f1 score: 0.1646489104116223\n",
      "              precision    recall  f1-score   support\n",
      "\n",
      "           0       0.92      1.00      0.95      3620\n",
      "           1       0.65      0.09      0.16       361\n",
      "\n",
      "    accuracy                           0.91      3981\n",
      "   macro avg       0.79      0.54      0.56      3981\n",
      "weighted avg       0.89      0.91      0.88      3981\n",
      "\n",
      "confusion_matrix\n",
      "[[3602   18]\n",
      " [ 327   34]]\n",
      "=============================== END=============================\n"
     ]
    }
   ],
   "source": [
    "model_names = []\n",
    "f1_sc = []\n",
    "prec = []\n",
    "recall = []\n",
    "auc_val =[]\n",
    "\n",
    "\n",
    "for model in [model_1, model_2, model_3]:\n",
    "    model.fit(X_train, y_train)\n",
    "    print('=============================== Test Results for:','{} '.format(model.steps[1][0]))\n",
    "    print('====================================================================================')\n",
    "   \n",
    "    y_train_pred = model.predict(X_train)\n",
    "    print('In-sample f1 score:', f1_score(y_train, y_train_pred))\n",
    "\n",
    "    y_test_pred = model.predict(X_test)\n",
    "    print('Out-sample f1 score:',f1_score(y_test, y_test_pred))\n",
    "    \n",
    "    report = classification_report(y_test, y_test_pred)\n",
    "    print(report)\n",
    "\n",
    "    conf_mat=confusion_matrix(y_test, y_test_pred)\n",
    "    print('confusion_matrix')\n",
    "    print(conf_mat)\n",
    "    \n",
    "    fpr, tpr, thresholds = roc_curve(y_test, y_test_pred)\n",
    "    \n",
    "    \n",
    "    model_names.append(model.steps[1][0])\n",
    "    f1_sc.append(f1_score(y_test, y_test_pred))\n",
    "    prec.append(precision_score(y_test, y_test_pred))\n",
    "    recall.append(recall_score(y_test, y_test_pred))\n",
    "    auc_val.append(auc(fpr, tpr))\n",
    "    \n",
    "     \n",
    "    #print('TP:', conf_mat[1][1])\n",
    "   #print('TN:', conf_mat[0][0])\n",
    "   #print('FP:', conf_mat[0][1])\n",
    "   #print('FN:', conf_mat[1][0])\n",
    "\n",
    "   #classes = ['Not Fraud', 'Fraud']\n",
    "   #plot_confusion_matrix(model, X_test, y_test,display_labels = classes,cmap=plt.cm.Blues)\n",
    "   ###Normalization can be applied by setting `normalize='true', 'pred' 'all' or None.\n",
    "    \n",
    "    \n",
    "    #plot_precision_recall_curve(model,X_test,y_test)\n",
    "    \n",
    "    #plot_roc_curve(model,X_test,y_test)\n",
    "    \n",
    "print('=============================== END=============================')"
   ]
  },
  {
   "cell_type": "code",
   "execution_count": 27,
   "metadata": {},
   "outputs": [
    {
     "data": {
      "text/html": [
       "<div>\n",
       "<style scoped>\n",
       "    .dataframe tbody tr th:only-of-type {\n",
       "        vertical-align: middle;\n",
       "    }\n",
       "\n",
       "    .dataframe tbody tr th {\n",
       "        vertical-align: top;\n",
       "    }\n",
       "\n",
       "    .dataframe thead th {\n",
       "        text-align: right;\n",
       "    }\n",
       "</style>\n",
       "<table border=\"1\" class=\"dataframe\">\n",
       "  <thead>\n",
       "    <tr style=\"text-align: right;\">\n",
       "      <th></th>\n",
       "      <th>prec_score</th>\n",
       "      <th>recall_score</th>\n",
       "      <th>f1_score</th>\n",
       "      <th>auc_score</th>\n",
       "    </tr>\n",
       "  </thead>\n",
       "  <tbody>\n",
       "    <tr>\n",
       "      <th>logreg_classifier</th>\n",
       "      <td>0.680000</td>\n",
       "      <td>0.047091</td>\n",
       "      <td>0.088083</td>\n",
       "      <td>0.522441</td>\n",
       "    </tr>\n",
       "    <tr>\n",
       "      <th>DT_classifier</th>\n",
       "      <td>0.191847</td>\n",
       "      <td>0.221607</td>\n",
       "      <td>0.205656</td>\n",
       "      <td>0.564256</td>\n",
       "    </tr>\n",
       "    <tr>\n",
       "      <th>RF_classifier</th>\n",
       "      <td>0.653846</td>\n",
       "      <td>0.094183</td>\n",
       "      <td>0.164649</td>\n",
       "      <td>0.544605</td>\n",
       "    </tr>\n",
       "  </tbody>\n",
       "</table>\n",
       "</div>"
      ],
      "text/plain": [
       "                   prec_score  recall_score  f1_score  auc_score\n",
       "logreg_classifier    0.680000      0.047091  0.088083   0.522441\n",
       "DT_classifier        0.191847      0.221607  0.205656   0.564256\n",
       "RF_classifier        0.653846      0.094183  0.164649   0.544605"
      ]
     },
     "execution_count": 27,
     "metadata": {},
     "output_type": "execute_result"
    }
   ],
   "source": [
    "perf_df = pd.DataFrame(list(zip(prec, recall,f1_sc,auc_val)),\n",
    "                       index = model_names, \n",
    "                       columns =['prec_score', 'recall_score','f1_score', 'auc_score'])\n",
    "\n",
    "perf_df\n"
   ]
  },
  {
   "cell_type": "markdown",
   "metadata": {},
   "source": [
    " * **high recall + high precision** : the class is perfectly handled by the model\n",
    " * **low recall + high precision** : the model can’t detect the class well but is highly trustable when it does\n",
    " * **high recall + low precision** : the class is well detected but the model also include points of other classes in it\n",
    " * **low recall + low precision** : the class is poorly handled by the model\n",
    " \n",
    "In the present dataset FP is more acceptable than FN. So, ideally the model should minimize FN i.e we need to optimize our model for Sensitivity(HIGH RECALL VALUE IS DESIRED). \n",
    " \n",
    " Low precision indicates a high number of false positives. Model includes more FP.\n",
    " Low Recall means high number of false negatives. \n",
    "\n",
    "https://towardsdatascience.com/handling-imbalanced-datasets-in-machine-learning-7a0e84220f28"
   ]
  },
  {
   "cell_type": "markdown",
   "metadata": {},
   "source": [
    "## Balancing the Skewed Dataset"
   ]
  },
  {
   "cell_type": "markdown",
   "metadata": {},
   "source": [
    "*As mentioned above the current dataset is highly skewed.In such extreme cases the ideal solution is to collect mre data.\n",
    "However, this solution is not always feasible and hence we need to go for some other course of action. The alternative way to handle such imbalanced data is the resampling technique\n",
    " * Undersampling(majority class)\n",
    " * Oversampling (minority class)\n",
    " * SMOTE(generating synthetic samples)\n"
   ]
  },
  {
   "cell_type": "code",
   "execution_count": null,
   "metadata": {},
   "outputs": [],
   "source": []
  }
 ],
 "metadata": {
  "kernelspec": {
   "display_name": "insight_prj",
   "language": "python",
   "name": "insight_prj"
  },
  "language_info": {
   "codemirror_mode": {
    "name": "ipython",
    "version": 3
   },
   "file_extension": ".py",
   "mimetype": "text/x-python",
   "name": "python",
   "nbconvert_exporter": "python",
   "pygments_lexer": "ipython3",
   "version": "3.7.7"
  }
 },
 "nbformat": 4,
 "nbformat_minor": 4
}
