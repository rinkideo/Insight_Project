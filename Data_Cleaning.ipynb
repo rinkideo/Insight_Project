{
 "cells": [
  {
   "cell_type": "code",
   "execution_count": 2,
   "metadata": {},
   "outputs": [],
   "source": [
    "import pandas as pd\n",
    "import numpy as np\n",
    "import matplotlib.pyplot as plt\n",
    "import seaborn as sns\n",
    "%matplotlib inline"
   ]
  },
  {
   "cell_type": "markdown",
   "metadata": {},
   "source": [
    "### Loading the data"
   ]
  },
  {
   "cell_type": "code",
   "execution_count": 3,
   "metadata": {},
   "outputs": [],
   "source": [
    "# Load data\n",
    "data = pd.read_csv('CSV_homedelv_2018.csv', index_col=[0])\n",
    "\n",
    "df_temp = data.copy()\n",
    "\n",
    "df_temp.columns= df_temp.columns.str.upper()"
   ]
  },
  {
   "cell_type": "code",
   "execution_count": 7,
   "metadata": {},
   "outputs": [
    {
     "data": {
      "text/plain": [
       "(53024, 240)"
      ]
     },
     "execution_count": 7,
     "metadata": {},
     "output_type": "execute_result"
    }
   ],
   "source": [
    "data.shape"
   ]
  },
  {
   "cell_type": "code",
   "execution_count": 66,
   "metadata": {},
   "outputs": [],
   "source": [
    "df_2018 = df_temp[(df_temp['BFACIL'] > 2) & (df_temp['BFACIL'] < 7)]"
   ]
  },
  {
   "cell_type": "code",
   "execution_count": 65,
   "metadata": {},
   "outputs": [
    {
     "name": "stderr",
     "output_type": "stream",
     "text": [
      "C:\\Users\\rdeo\\anaconda3\\envs\\insight_prj\\lib\\site-packages\\IPython\\core\\interactiveshell.py:3063: DtypeWarning: Columns (23) have mixed types.Specify dtype option on import or set low_memory=False.\n",
      "  interactivity=interactivity, compiler=compiler, result=result)\n"
     ]
    }
   ],
   "source": [
    "data1 = pd.read_csv('CSV_homedelv_2017.csv', index_col=[0])\n",
    "\n",
    "df_temp1 = data1.copy()\n",
    "\n",
    "df_temp1.columns= df_temp1.columns.str.upper()"
   ]
  },
  {
   "cell_type": "code",
   "execution_count": 67,
   "metadata": {},
   "outputs": [],
   "source": [
    "df_2017 = df_temp1[(df_temp1['BFACIL'] > 2) & (df_temp1['BFACIL'] < 7)]"
   ]
  },
  {
   "cell_type": "code",
   "execution_count": null,
   "metadata": {},
   "outputs": [],
   "source": [
    "df_2yrs= pd.concat([df_2018, df_2017], axis=0)"
   ]
  },
  {
   "cell_type": "markdown",
   "metadata": {},
   "source": [
    "## Cleaning the data"
   ]
  },
  {
   "cell_type": "code",
   "execution_count": 393,
   "metadata": {},
   "outputs": [],
   "source": [
    "train_fd_sel_unedited =['BFACIL','MAGER', 'MAGER14','MAGER9', 'MBSTATE_REC','RESTATUS', 'MRACE31', 'MRACE6', 'MRACE15', 'MBRACE', 'MRACEIMP', \n",
    "         'MHISP_R', 'F_MHISP', 'MRACEHISP', 'MAR_P','DMAR','MAR_IMP','F_MAR_P','MEDUC','F_MEDUC','FAGERPT_FLG','FAGECOMB',\n",
    "         'FAGEREC11','FRACE31','FRACE6','FRACE15','FBRACE','FHISP_R','F_FHISP','FRACEHISP','FEDUC','PRIORLIVE','PRIORDEAD',\n",
    "         'PRIORTERM', 'LBO_REC','TBO_REC', 'ILLB_R', 'ILLB_R11', 'ILOP_R', 'ILOP_R11', 'ILP_R', 'ILP_R11', 'PRECARE',\n",
    "         'F_MPCB', 'PRECARE5', 'PREVIS','PREVIS_REC', 'F_TPCV', 'WIC','F_WIC', 'CIG_0', 'CIG_1', 'CIG_2', 'CIG_3', 'CIG0_R',\n",
    "         'CIG1_R', 'CIG2_R', 'CIG3_R', 'F_CIGS_0', 'F_CIGS_1', 'F_CIGS_2', 'F_CIGS_3', 'CIG_REC', 'F_TOBACO', 'M_HT_IN',\n",
    "         'F_M_HT', 'BMI', 'BMI_R', 'PWGT_R', 'F_PWGT', 'DWGT_R', 'F_DWGT', 'WTGAIN', 'WTGAIN_REC', 'F_WTGAIN', 'RF_PDIAB',\n",
    "         'RF_GDIAB', 'RF_PHYPE', 'RF_GHYPE', 'RF_EHYPE', 'RF_PPTERM', 'F_RF_PDIAB', 'F_RF_GDIAB', 'F_RF_PHYPER', 'F_RF_GHYPER',\n",
    "         'F_RF_ECLAMP', 'F_RF_PPB', 'RF_INFTR', 'RF_FEDRG', 'RF_ARTEC', 'F_RF_INF_DRG', 'F_RF_INF_ART', 'RF_CESAR', 'RF_CESARN',\n",
    "         'F_RF_CESAR', 'F_RF_NCESAR', 'NO_RISKS', 'IP_GON', 'IP_SYPH', 'IP_CHLAM', 'IP_HEPATB', 'IP_HEPATC']"
   ]
  },
  {
   "cell_type": "code",
   "execution_count": 9,
   "metadata": {},
   "outputs": [],
   "source": [
    "train_fd_sel_new =['MAGER','PRIORLIVE','PRIORDEAD','PRIORTERM', 'LBO_REC','TBO_REC', 'ILLB_R11', 'ILP_R11','PRECARE', 'PREVIS',\n",
    "               'WIC','CIG_0', 'CIG_1', 'CIG_2', 'CIG_3', 'M_HT_IN','BMI' ,'PWGT_R', 'DWGT_R', 'WTGAIN','ILOP_R11',\n",
    "               'RF_PDIAB','RF_GDIAB', 'RF_PHYPE', 'RF_GHYPE', 'RF_EHYPE', 'RF_PPTERM', 'RF_INFTR', 'RF_FEDRG', 'RF_ARTEC', \n",
    "               'RF_CESARN','IP_GON', 'IP_SYPH', 'IP_CHLAM', 'IP_HEPATB', 'IP_HEPATC']\n",
    "\n",
    "target_fd_sel = ['DMETH_REC', 'APGAR5','MM_MTR','MM_PLAC','MM_AICU','MTRAN',\n",
    "             'AB_AVEN1','AB_AVEN6','AB_NICU','AB_SURF','AB_ANTI','AB_SEIZ']\n",
    "\n",
    "fd_sel = train_fd_sel_new + target_fd_sel\n",
    "             \n",
    "target_fd_check = ['CA_ANEN', 'OB_ECVS','OB_ECVF','CA_MNSB', 'CA_CCHD', 'CA_CDH', \n",
    "                   'CA_OMPH', 'CA_GAST', 'CA_LIMB', 'CA_CLEFT', 'CA_CLPAL',\n",
    "                   'CA_DOWNS', 'CA_DISOR', 'CA_HYPO']"
   ]
  },
  {
   "cell_type": "code",
   "execution_count": 10,
   "metadata": {},
   "outputs": [],
   "source": [
    "df = df_temp[fd_sel]"
   ]
  },
  {
   "cell_type": "code",
   "execution_count": 11,
   "metadata": {},
   "outputs": [
    {
     "data": {
      "text/plain": [
       "(53024, 48)"
      ]
     },
     "execution_count": 11,
     "metadata": {},
     "output_type": "execute_result"
    }
   ],
   "source": [
    "df.shape"
   ]
  },
  {
   "cell_type": "code",
   "execution_count": 12,
   "metadata": {},
   "outputs": [],
   "source": [
    "###Following are the category code for unknown status in each fo the features and can be removed if required\n",
    "\n",
    "##AMONG ====''MAGER9','RESTATUS','MBRACE','MHISP_R','MEDUC','FAGEREC11','FRACE6','FHISP_R','FEDUC'===##\n",
    "\n",
    "#df = df[df['MHISP_R']!=9]\n",
    "#df = df[df['MEDUC']!=9]\n",
    "#df = df[df['FAGEREC11']!=11]\n",
    "#df = df[df['FRACE6']!=9]\n",
    "#df = df[df['FHISP_R']!=9]\n",
    "#df = df[df['FEDUC']!=9]\n",
    "\n",
    "##'PRIORLIVE','PRIORDEAD','PRIORTERM'\n",
    "df = df[df['PRIORLIVE']!=99] ##0-30 is the range of values\n",
    "df = df[df['PRIORDEAD']!=99]##0-30 is the range of values\n",
    "df = df[df['PRIORTERM']!=99]##0-30 is the range of values\n",
    "\n",
    "###'LBO_REC','TBO_REC', 'ILLB_R11', 'ILP_R'\n",
    "df = df[df['LBO_REC']!=9]\n",
    "\n",
    "\n",
    "df = df[df['ILLB_R11']!=99] ## 88 -N/A first live birth\n",
    "df = df[df['ILP_R11']!=99] ###88 Not applicable / no previous pregnancy \n",
    "df = df[df['ILOP_R11']!=99]###88 Not applicable / no previous pregnancy\n",
    "\n",
    "\n",
    "df['ILP_R11'].replace(88, 9,inplace=True)\n",
    "df['ILLB_R11'].replace(88, 9,inplace=True)\n",
    "df['ILOP_R11'].replace(88, 9,inplace=True)\n",
    "\n",
    "##'PRECARE', 'PREVIS'\n",
    "df = df[df['PRECARE']!=99]\n",
    "df = df[df['PREVIS']!=99]\n",
    "\n",
    "##'WIC','CIG_0', 'CIG_1', 'CIG_2', 'CIG_3',\n",
    "df = df[df['WIC']!='U']\n",
    "df = df[df['CIG_0']!=99]\n",
    "df = df[df['CIG_1']!=99]\n",
    "df = df[df['CIG_2']!=99]\n",
    "df = df[df['CIG_3']!=99]\n",
    "\n",
    " ###'M_HT_IN','BMI','PWGT_R', 'DWGT_R', 'WTGAIN',\n",
    "\n",
    "df = df[df['M_HT_IN']!= 99]\n",
    "df = df[df['BMI']!=99.9]\n",
    "df = df[df['PWGT_R']!=999]\n",
    "df = df[df['DWGT_R']!=999]\n",
    "df = df[df['WTGAIN']!=99]\n",
    "\n",
    "\n",
    "###'RF_PDIAB','RF_GDIAB', 'RF_PHYPE', 'RF_GHYPE', 'RF_EHYPE', 'RF_PPTERM', 'RF_INFTR', 'RF_FEDRG', 'RF_ARTEC', 'RF_CESARN'\n",
    "df = df[df['RF_CESARN']!= 99]\n",
    "df = df[df['RF_PDIAB']!= 'U']\n",
    "df = df[df['RF_GDIAB']!= 'U']\n",
    "df = df[df['RF_PHYPE']!= 'U']\n",
    "df = df[df['RF_GHYPE']!= 'U']\n",
    "df = df[df['RF_EHYPE']!= 'U']\n",
    "df = df[df['RF_PPTERM']!= 'U']\n",
    "df = df[df['RF_INFTR']!= 'U']\n",
    "df = df[df['RF_FEDRG']!= 'U']\n",
    "df = df[df['RF_ARTEC']!= 'U']\n",
    "\n",
    "###IP_GON', 'IP_SYPH', 'IP_CHLAM', 'IP_HEPATB', 'IP_HEPATC'\n",
    "df = df[df['IP_GON']!= 'U']\n",
    "df = df[df['IP_SYPH']!= 'U']\n",
    "df = df[df['IP_CHLAM']!= 'U']\n",
    "df = df[df['IP_HEPATB']!= 'U']\n",
    "df = df[df['IP_HEPATC']!= 'U']"
   ]
  },
  {
   "cell_type": "code",
   "execution_count": 13,
   "metadata": {},
   "outputs": [
    {
     "data": {
      "text/plain": [
       "(44036, 48)"
      ]
     },
     "execution_count": 13,
     "metadata": {},
     "output_type": "execute_result"
    }
   ],
   "source": [
    "df.shape"
   ]
  },
  {
   "cell_type": "markdown",
   "metadata": {},
   "source": [
    "## Target Columns"
   ]
  },
  {
   "cell_type": "code",
   "execution_count": 14,
   "metadata": {},
   "outputs": [],
   "source": [
    "###Target column preparation\n",
    "###'DMETH_REC', 'APGAR5','MM_MTR','MM_PLAC','MM_RUPT','MM_UHYST','MM_AICU',\n",
    "            \n",
    "df = df[df['DMETH_REC']!= 9]\n",
    "df = df[df['APGAR5']!= 99]\n",
    "df = df[df['MM_MTR']!='U']\n",
    "df = df[df['MM_PLAC']!= 'U']\n",
    "#df = df[df['MM_RUPT']!='U']\n",
    "df = df[df['MTRAN']!='U']\n",
    "df = df[df['MM_AICU']!= 'U']\n",
    "\n",
    "###'AB_AVEN1','AB_AVEN6','AB_NICU','AB_SURF','AB_ANTI','AB_SEIZ'\n",
    "df = df[df['AB_AVEN1']!= 9]\n",
    "df = df[df['AB_AVEN6']!= 99]\n",
    "df = df[df['AB_NICU']!='U']\n",
    "df = df[df['AB_SURF']!= 'U']\n",
    "df = df[df['AB_ANTI']!='U']\n",
    "df = df[df['AB_SEIZ']!= 'U']\n",
    "\n"
   ]
  },
  {
   "cell_type": "code",
   "execution_count": 15,
   "metadata": {},
   "outputs": [
    {
     "data": {
      "text/plain": [
       "(39379, 48)"
      ]
     },
     "execution_count": 15,
     "metadata": {},
     "output_type": "execute_result"
    }
   ],
   "source": [
    "df.shape"
   ]
  },
  {
   "cell_type": "code",
   "execution_count": 16,
   "metadata": {},
   "outputs": [
    {
     "data": {
      "text/plain": [
       "N    38617\n",
       "Y      762\n",
       "Name: AB_NICU, dtype: int64"
      ]
     },
     "execution_count": 16,
     "metadata": {},
     "output_type": "execute_result"
    }
   ],
   "source": [
    "df['AB_NICU'].value_counts()"
   ]
  },
  {
   "cell_type": "markdown",
   "metadata": {},
   "source": [
    "### Distribution of target columns"
   ]
  },
  {
   "cell_type": "code",
   "execution_count": 192,
   "metadata": {},
   "outputs": [
    {
     "data": {
      "text/plain": [
       "1    45102\n",
       "2      110\n",
       "Name: DMETH_REC, dtype: int64"
      ]
     },
     "execution_count": 192,
     "metadata": {},
     "output_type": "execute_result"
    }
   ],
   "source": [
    "df['DMETH_REC'].value_counts()"
   ]
  },
  {
   "cell_type": "code",
   "execution_count": 193,
   "metadata": {},
   "outputs": [
    {
     "data": {
      "text/plain": [
       "9     23815\n",
       "10    15351\n",
       "8      4059\n",
       "7       970\n",
       "6       367\n",
       "5       239\n",
       "0       153\n",
       "4        87\n",
       "1        62\n",
       "3        56\n",
       "2        53\n",
       "Name: APGAR5, dtype: int64"
      ]
     },
     "execution_count": 193,
     "metadata": {},
     "output_type": "execute_result"
    }
   ],
   "source": [
    "df['APGAR5'].value_counts()"
   ]
  },
  {
   "cell_type": "code",
   "execution_count": 90,
   "metadata": {},
   "outputs": [
    {
     "data": {
      "text/plain": [
       "<matplotlib.axes._subplots.AxesSubplot at 0x24e47874208>"
      ]
     },
     "execution_count": 90,
     "metadata": {},
     "output_type": "execute_result"
    },
    {
     "data": {
      "image/png": "[encoded data removed]",
      "text/plain": [
       "<Figure size 432x288 with 1 Axes>"
      ]
     },
     "metadata": {
      "needs_background": "light"
     },
     "output_type": "display_data"
    }
   ],
   "source": [
    "sns.distplot(df['APGAR5'])"
   ]
  },
  {
   "cell_type": "code",
   "execution_count": 71,
   "metadata": {},
   "outputs": [
    {
     "data": {
      "text/plain": [
       "N    45546\n",
       "Y       30\n",
       "Name: MM_AICU, dtype: int64"
      ]
     },
     "execution_count": 71,
     "metadata": {},
     "output_type": "execute_result"
    }
   ],
   "source": [
    "df['MM_AICU'].value_counts()"
   ]
  },
  {
   "cell_type": "code",
   "execution_count": 72,
   "metadata": {},
   "outputs": [],
   "source": [
    "#df = df[df['CA_ANEN']!='U']\n",
    "#df = df[df['CA_MNSB']!='U']\n",
    "#df = df[df['CA_CCHD']!='U']\n",
    "#df = df[df['CA_CDH']!='U']\n",
    "#df = df[df['CA_OMPH']!='U']\n",
    "#df = df[df['CA_GAST']!= 'U']\n",
    "#df = df[df['CA_LIMB']!='U']\n",
    "#df = df[df['CA_CLEFT']!='U']\n",
    "#df = df[df['CA_HYPO']!= 'U']\n",
    "#df = df[df['CA_CLPAL']!='U']\n",
    "#df = df[df['CA_DOWNS']!='U']\n",
    "#df = df[df['CA_DISOR']!= 'U']\n",
    "#\n",
    "#df = df[df['OB_ECVS']!= 'U']\n",
    "#df = df[df['OB_ECVF']!='U']"
   ]
  },
  {
   "cell_type": "code",
   "execution_count": 91,
   "metadata": {},
   "outputs": [
    {
     "data": {
      "text/plain": [
       "(45212, 48)"
      ]
     },
     "execution_count": 91,
     "metadata": {},
     "output_type": "execute_result"
    }
   ],
   "source": [
    "df.shape"
   ]
  },
  {
   "cell_type": "markdown",
   "metadata": {},
   "source": [
    "## Preparing the target variable(\"risk or norisk\") combining multiple features"
   ]
  },
  {
   "cell_type": "code",
   "execution_count": 17,
   "metadata": {},
   "outputs": [],
   "source": [
    "target_fd = ['DMETH_REC','APGAR5','MM_MTR','MM_PLAC','MM_AICU','MTRAN',\n",
    "             'AB_AVEN1','AB_AVEN6','AB_NICU','AB_SURF','AB_ANTI','AB_SEIZ']"
   ]
  },
  {
   "cell_type": "code",
   "execution_count": 18,
   "metadata": {},
   "outputs": [],
   "source": [
    "df_t=df.loc[:,target_fd]"
   ]
  },
  {
   "cell_type": "code",
   "execution_count": 19,
   "metadata": {},
   "outputs": [
    {
     "data": {
      "text/plain": [
       "(39379, 12)"
      ]
     },
     "execution_count": 19,
     "metadata": {},
     "output_type": "execute_result"
    }
   ],
   "source": [
    "df_t.shape"
   ]
  },
  {
   "cell_type": "code",
   "execution_count": 20,
   "metadata": {},
   "outputs": [],
   "source": [
    "df_target= df_t.copy()"
   ]
  },
  {
   "cell_type": "code",
   "execution_count": 21,
   "metadata": {},
   "outputs": [
    {
     "name": "stdout",
     "output_type": "stream",
     "text": [
      "<class 'pandas.core.frame.DataFrame'>\n",
      "Int64Index: 39379 entries, 5 to 549459989\n",
      "Data columns (total 12 columns):\n",
      " #   Column     Non-Null Count  Dtype \n",
      "---  ------     --------------  ----- \n",
      " 0   DMETH_REC  39379 non-null  int64 \n",
      " 1   APGAR5     39379 non-null  int64 \n",
      " 2   MM_MTR     39379 non-null  object\n",
      " 3   MM_PLAC    39379 non-null  object\n",
      " 4   MM_AICU    39379 non-null  object\n",
      " 5   MTRAN      39379 non-null  object\n",
      " 6   AB_AVEN1   39379 non-null  object\n",
      " 7   AB_AVEN6   39379 non-null  object\n",
      " 8   AB_NICU    39379 non-null  object\n",
      " 9   AB_SURF    39379 non-null  object\n",
      " 10  AB_ANTI    39379 non-null  object\n",
      " 11  AB_SEIZ    39379 non-null  object\n",
      "dtypes: int64(2), object(10)\n",
      "memory usage: 3.9+ MB\n"
     ]
    }
   ],
   "source": [
    "df_target.info()"
   ]
  },
  {
   "cell_type": "code",
   "execution_count": 22,
   "metadata": {},
   "outputs": [
    {
     "data": {
      "text/plain": [
       "N    38544\n",
       "Y      746\n",
       "Name: AB_NICU, dtype: int64"
      ]
     },
     "execution_count": 22,
     "metadata": {},
     "output_type": "execute_result"
    }
   ],
   "source": [
    "df_target[df_target['DMETH_REC']==1]['AB_NICU'].value_counts()"
   ]
  },
  {
   "cell_type": "code",
   "execution_count": 23,
   "metadata": {},
   "outputs": [
    {
     "data": {
      "text/plain": [
       "<matplotlib.axes._subplots.AxesSubplot at 0x237000152c8>"
      ]
     },
     "execution_count": 23,
     "metadata": {},
     "output_type": "execute_result"
    },
    {
     "data": {
      "image/png": "[encoded data removed]",
      "text/plain": [
       "<Figure size 432x288 with 1 Axes>"
      ]
     },
     "metadata": {
      "needs_background": "light"
     },
     "output_type": "display_data"
    }
   ],
   "source": [
    "sns.distplot(df_target['DMETH_REC'])"
   ]
  },
  {
   "cell_type": "code",
   "execution_count": 24,
   "metadata": {},
   "outputs": [],
   "source": [
    "##Converting the categories(P,N) to N and categories(C) to Y of column CA_DOWNS and CA_DISOR\n",
    "\n",
    "#df_target.replace(['P'], 'N', inplace=True)\n",
    "#df_target.replace(['C'], 'Y', inplace=True)"
   ]
  },
  {
   "cell_type": "code",
   "execution_count": 25,
   "metadata": {},
   "outputs": [],
   "source": [
    "##APGAR score of 0 to 3 indicates an infant in need of resuscitation; a score of 4 to 6 is considered intermediate;\n",
    "##a score of 7 or greater indicates that the neonate is in good to excellent physical condn\n",
    "df_target['APGAR5'].replace([0,1,2,3,4,5,6], 1,inplace=True)\n",
    "df_target['APGAR5'].replace([7,8,9,10], 0,inplace=True)"
   ]
  },
  {
   "cell_type": "code",
   "execution_count": 26,
   "metadata": {},
   "outputs": [
    {
     "data": {
      "text/plain": [
       "array([0, 1], dtype=int64)"
      ]
     },
     "execution_count": 26,
     "metadata": {},
     "output_type": "execute_result"
    }
   ],
   "source": [
    "df_target['APGAR5'].unique()"
   ]
  },
  {
   "cell_type": "code",
   "execution_count": 27,
   "metadata": {},
   "outputs": [],
   "source": [
    "df_target['DMETH_REC'].replace(1, 0,inplace=True)\n",
    "df_target['DMETH_REC'].replace(2, 1,inplace=True)"
   ]
  },
  {
   "cell_type": "code",
   "execution_count": 28,
   "metadata": {},
   "outputs": [
    {
     "data": {
      "text/plain": [
       "array([0, 1], dtype=int64)"
      ]
     },
     "execution_count": 28,
     "metadata": {},
     "output_type": "execute_result"
    }
   ],
   "source": [
    "df_target['DMETH_REC'].unique()"
   ]
  },
  {
   "cell_type": "code",
   "execution_count": 29,
   "metadata": {},
   "outputs": [
    {
     "data": {
      "text/html": [
       "<div>\n",
       "<style scoped>\n",
       "    .dataframe tbody tr th:only-of-type {\n",
       "        vertical-align: middle;\n",
       "    }\n",
       "\n",
       "    .dataframe tbody tr th {\n",
       "        vertical-align: top;\n",
       "    }\n",
       "\n",
       "    .dataframe thead th {\n",
       "        text-align: right;\n",
       "    }\n",
       "</style>\n",
       "<table border=\"1\" class=\"dataframe\">\n",
       "  <thead>\n",
       "    <tr style=\"text-align: right;\">\n",
       "      <th></th>\n",
       "      <th>DMETH_REC</th>\n",
       "      <th>APGAR5</th>\n",
       "      <th>MM_MTR</th>\n",
       "      <th>MM_PLAC</th>\n",
       "      <th>MM_AICU</th>\n",
       "      <th>MTRAN</th>\n",
       "      <th>AB_AVEN1</th>\n",
       "      <th>AB_AVEN6</th>\n",
       "      <th>AB_NICU</th>\n",
       "      <th>AB_SURF</th>\n",
       "      <th>AB_ANTI</th>\n",
       "      <th>AB_SEIZ</th>\n",
       "    </tr>\n",
       "    <tr>\n",
       "      <th>index</th>\n",
       "      <th></th>\n",
       "      <th></th>\n",
       "      <th></th>\n",
       "      <th></th>\n",
       "      <th></th>\n",
       "      <th></th>\n",
       "      <th></th>\n",
       "      <th></th>\n",
       "      <th></th>\n",
       "      <th></th>\n",
       "      <th></th>\n",
       "      <th></th>\n",
       "    </tr>\n",
       "  </thead>\n",
       "  <tbody>\n",
       "    <tr>\n",
       "      <th>5</th>\n",
       "      <td>0</td>\n",
       "      <td>0</td>\n",
       "      <td>N</td>\n",
       "      <td>N</td>\n",
       "      <td>N</td>\n",
       "      <td>N</td>\n",
       "      <td>N</td>\n",
       "      <td>N</td>\n",
       "      <td>N</td>\n",
       "      <td>N</td>\n",
       "      <td>N</td>\n",
       "      <td>N</td>\n",
       "    </tr>\n",
       "    <tr>\n",
       "      <th>33</th>\n",
       "      <td>0</td>\n",
       "      <td>0</td>\n",
       "      <td>N</td>\n",
       "      <td>N</td>\n",
       "      <td>N</td>\n",
       "      <td>N</td>\n",
       "      <td>N</td>\n",
       "      <td>N</td>\n",
       "      <td>N</td>\n",
       "      <td>N</td>\n",
       "      <td>N</td>\n",
       "      <td>N</td>\n",
       "    </tr>\n",
       "    <tr>\n",
       "      <th>63</th>\n",
       "      <td>0</td>\n",
       "      <td>0</td>\n",
       "      <td>N</td>\n",
       "      <td>N</td>\n",
       "      <td>N</td>\n",
       "      <td>N</td>\n",
       "      <td>N</td>\n",
       "      <td>N</td>\n",
       "      <td>N</td>\n",
       "      <td>N</td>\n",
       "      <td>N</td>\n",
       "      <td>N</td>\n",
       "    </tr>\n",
       "    <tr>\n",
       "      <th>66</th>\n",
       "      <td>0</td>\n",
       "      <td>0</td>\n",
       "      <td>N</td>\n",
       "      <td>Y</td>\n",
       "      <td>N</td>\n",
       "      <td>N</td>\n",
       "      <td>N</td>\n",
       "      <td>N</td>\n",
       "      <td>N</td>\n",
       "      <td>N</td>\n",
       "      <td>N</td>\n",
       "      <td>N</td>\n",
       "    </tr>\n",
       "    <tr>\n",
       "      <th>169</th>\n",
       "      <td>0</td>\n",
       "      <td>0</td>\n",
       "      <td>N</td>\n",
       "      <td>N</td>\n",
       "      <td>N</td>\n",
       "      <td>N</td>\n",
       "      <td>N</td>\n",
       "      <td>N</td>\n",
       "      <td>N</td>\n",
       "      <td>N</td>\n",
       "      <td>N</td>\n",
       "      <td>N</td>\n",
       "    </tr>\n",
       "    <tr>\n",
       "      <th>...</th>\n",
       "      <td>...</td>\n",
       "      <td>...</td>\n",
       "      <td>...</td>\n",
       "      <td>...</td>\n",
       "      <td>...</td>\n",
       "      <td>...</td>\n",
       "      <td>...</td>\n",
       "      <td>...</td>\n",
       "      <td>...</td>\n",
       "      <td>...</td>\n",
       "      <td>...</td>\n",
       "      <td>...</td>\n",
       "    </tr>\n",
       "    <tr>\n",
       "      <th>549459425</th>\n",
       "      <td>0</td>\n",
       "      <td>0</td>\n",
       "      <td>N</td>\n",
       "      <td>N</td>\n",
       "      <td>N</td>\n",
       "      <td>N</td>\n",
       "      <td>N</td>\n",
       "      <td>N</td>\n",
       "      <td>N</td>\n",
       "      <td>N</td>\n",
       "      <td>N</td>\n",
       "      <td>N</td>\n",
       "    </tr>\n",
       "    <tr>\n",
       "      <th>549459631</th>\n",
       "      <td>0</td>\n",
       "      <td>0</td>\n",
       "      <td>N</td>\n",
       "      <td>N</td>\n",
       "      <td>N</td>\n",
       "      <td>N</td>\n",
       "      <td>N</td>\n",
       "      <td>N</td>\n",
       "      <td>N</td>\n",
       "      <td>N</td>\n",
       "      <td>N</td>\n",
       "      <td>N</td>\n",
       "    </tr>\n",
       "    <tr>\n",
       "      <th>549459633</th>\n",
       "      <td>0</td>\n",
       "      <td>0</td>\n",
       "      <td>N</td>\n",
       "      <td>N</td>\n",
       "      <td>N</td>\n",
       "      <td>N</td>\n",
       "      <td>N</td>\n",
       "      <td>N</td>\n",
       "      <td>N</td>\n",
       "      <td>N</td>\n",
       "      <td>N</td>\n",
       "      <td>N</td>\n",
       "    </tr>\n",
       "    <tr>\n",
       "      <th>549459921</th>\n",
       "      <td>0</td>\n",
       "      <td>0</td>\n",
       "      <td>N</td>\n",
       "      <td>N</td>\n",
       "      <td>N</td>\n",
       "      <td>N</td>\n",
       "      <td>N</td>\n",
       "      <td>N</td>\n",
       "      <td>N</td>\n",
       "      <td>N</td>\n",
       "      <td>N</td>\n",
       "      <td>N</td>\n",
       "    </tr>\n",
       "    <tr>\n",
       "      <th>549459989</th>\n",
       "      <td>0</td>\n",
       "      <td>0</td>\n",
       "      <td>N</td>\n",
       "      <td>N</td>\n",
       "      <td>N</td>\n",
       "      <td>N</td>\n",
       "      <td>N</td>\n",
       "      <td>N</td>\n",
       "      <td>N</td>\n",
       "      <td>N</td>\n",
       "      <td>N</td>\n",
       "      <td>N</td>\n",
       "    </tr>\n",
       "  </tbody>\n",
       "</table>\n",
       "<p>39379 rows × 12 columns</p>\n",
       "</div>"
      ],
      "text/plain": [
       "           DMETH_REC  APGAR5 MM_MTR MM_PLAC MM_AICU MTRAN AB_AVEN1 AB_AVEN6  \\\n",
       "index                                                                         \n",
       "5                  0       0      N       N       N     N        N        N   \n",
       "33                 0       0      N       N       N     N        N        N   \n",
       "63                 0       0      N       N       N     N        N        N   \n",
       "66                 0       0      N       Y       N     N        N        N   \n",
       "169                0       0      N       N       N     N        N        N   \n",
       "...              ...     ...    ...     ...     ...   ...      ...      ...   \n",
       "549459425          0       0      N       N       N     N        N        N   \n",
       "549459631          0       0      N       N       N     N        N        N   \n",
       "549459633          0       0      N       N       N     N        N        N   \n",
       "549459921          0       0      N       N       N     N        N        N   \n",
       "549459989          0       0      N       N       N     N        N        N   \n",
       "\n",
       "          AB_NICU AB_SURF AB_ANTI AB_SEIZ  \n",
       "index                                      \n",
       "5               N       N       N       N  \n",
       "33              N       N       N       N  \n",
       "63              N       N       N       N  \n",
       "66              N       N       N       N  \n",
       "169             N       N       N       N  \n",
       "...           ...     ...     ...     ...  \n",
       "549459425       N       N       N       N  \n",
       "549459631       N       N       N       N  \n",
       "549459633       N       N       N       N  \n",
       "549459921       N       N       N       N  \n",
       "549459989       N       N       N       N  \n",
       "\n",
       "[39379 rows x 12 columns]"
      ]
     },
     "execution_count": 29,
     "metadata": {},
     "output_type": "execute_result"
    }
   ],
   "source": [
    "df_target"
   ]
  },
  {
   "cell_type": "code",
   "execution_count": 30,
   "metadata": {},
   "outputs": [],
   "source": [
    "from sklearn.preprocessing import LabelEncoder\n",
    "le=LabelEncoder()\n",
    "for col in df_target.select_dtypes(include = ['object']).columns:\n",
    "    \n",
    "    le.fit(df_target[col].unique())\n",
    "    df_target.loc[:, col] = le.transform(df_target[col])\n",
    "#df_val = le.fit_transform(df_target)"
   ]
  },
  {
   "cell_type": "code",
   "execution_count": 31,
   "metadata": {},
   "outputs": [],
   "source": [
    "df_val = df_target.copy()"
   ]
  },
  {
   "cell_type": "code",
   "execution_count": 32,
   "metadata": {},
   "outputs": [],
   "source": [
    "df_val.loc[:,'comb'] =   df_val.sum(axis=1)"
   ]
  },
  {
   "cell_type": "code",
   "execution_count": 33,
   "metadata": {},
   "outputs": [
    {
     "data": {
      "text/html": [
       "<div>\n",
       "<style scoped>\n",
       "    .dataframe tbody tr th:only-of-type {\n",
       "        vertical-align: middle;\n",
       "    }\n",
       "\n",
       "    .dataframe tbody tr th {\n",
       "        vertical-align: top;\n",
       "    }\n",
       "\n",
       "    .dataframe thead th {\n",
       "        text-align: right;\n",
       "    }\n",
       "</style>\n",
       "<table border=\"1\" class=\"dataframe\">\n",
       "  <thead>\n",
       "    <tr style=\"text-align: right;\">\n",
       "      <th></th>\n",
       "      <th>DMETH_REC</th>\n",
       "      <th>APGAR5</th>\n",
       "      <th>MM_MTR</th>\n",
       "      <th>MM_PLAC</th>\n",
       "      <th>MM_AICU</th>\n",
       "      <th>MTRAN</th>\n",
       "      <th>AB_AVEN1</th>\n",
       "      <th>AB_AVEN6</th>\n",
       "      <th>AB_NICU</th>\n",
       "      <th>AB_SURF</th>\n",
       "      <th>AB_ANTI</th>\n",
       "      <th>AB_SEIZ</th>\n",
       "      <th>comb</th>\n",
       "    </tr>\n",
       "    <tr>\n",
       "      <th>index</th>\n",
       "      <th></th>\n",
       "      <th></th>\n",
       "      <th></th>\n",
       "      <th></th>\n",
       "      <th></th>\n",
       "      <th></th>\n",
       "      <th></th>\n",
       "      <th></th>\n",
       "      <th></th>\n",
       "      <th></th>\n",
       "      <th></th>\n",
       "      <th></th>\n",
       "      <th></th>\n",
       "    </tr>\n",
       "  </thead>\n",
       "  <tbody>\n",
       "    <tr>\n",
       "      <th>5</th>\n",
       "      <td>0</td>\n",
       "      <td>0</td>\n",
       "      <td>0</td>\n",
       "      <td>0</td>\n",
       "      <td>0</td>\n",
       "      <td>0</td>\n",
       "      <td>0</td>\n",
       "      <td>0</td>\n",
       "      <td>0</td>\n",
       "      <td>0</td>\n",
       "      <td>0</td>\n",
       "      <td>0</td>\n",
       "      <td>0</td>\n",
       "    </tr>\n",
       "    <tr>\n",
       "      <th>33</th>\n",
       "      <td>0</td>\n",
       "      <td>0</td>\n",
       "      <td>0</td>\n",
       "      <td>0</td>\n",
       "      <td>0</td>\n",
       "      <td>0</td>\n",
       "      <td>0</td>\n",
       "      <td>0</td>\n",
       "      <td>0</td>\n",
       "      <td>0</td>\n",
       "      <td>0</td>\n",
       "      <td>0</td>\n",
       "      <td>0</td>\n",
       "    </tr>\n",
       "    <tr>\n",
       "      <th>63</th>\n",
       "      <td>0</td>\n",
       "      <td>0</td>\n",
       "      <td>0</td>\n",
       "      <td>0</td>\n",
       "      <td>0</td>\n",
       "      <td>0</td>\n",
       "      <td>0</td>\n",
       "      <td>0</td>\n",
       "      <td>0</td>\n",
       "      <td>0</td>\n",
       "      <td>0</td>\n",
       "      <td>0</td>\n",
       "      <td>0</td>\n",
       "    </tr>\n",
       "    <tr>\n",
       "      <th>66</th>\n",
       "      <td>0</td>\n",
       "      <td>0</td>\n",
       "      <td>0</td>\n",
       "      <td>1</td>\n",
       "      <td>0</td>\n",
       "      <td>0</td>\n",
       "      <td>0</td>\n",
       "      <td>0</td>\n",
       "      <td>0</td>\n",
       "      <td>0</td>\n",
       "      <td>0</td>\n",
       "      <td>0</td>\n",
       "      <td>1</td>\n",
       "    </tr>\n",
       "    <tr>\n",
       "      <th>169</th>\n",
       "      <td>0</td>\n",
       "      <td>0</td>\n",
       "      <td>0</td>\n",
       "      <td>0</td>\n",
       "      <td>0</td>\n",
       "      <td>0</td>\n",
       "      <td>0</td>\n",
       "      <td>0</td>\n",
       "      <td>0</td>\n",
       "      <td>0</td>\n",
       "      <td>0</td>\n",
       "      <td>0</td>\n",
       "      <td>0</td>\n",
       "    </tr>\n",
       "    <tr>\n",
       "      <th>...</th>\n",
       "      <td>...</td>\n",
       "      <td>...</td>\n",
       "      <td>...</td>\n",
       "      <td>...</td>\n",
       "      <td>...</td>\n",
       "      <td>...</td>\n",
       "      <td>...</td>\n",
       "      <td>...</td>\n",
       "      <td>...</td>\n",
       "      <td>...</td>\n",
       "      <td>...</td>\n",
       "      <td>...</td>\n",
       "      <td>...</td>\n",
       "    </tr>\n",
       "    <tr>\n",
       "      <th>549459425</th>\n",
       "      <td>0</td>\n",
       "      <td>0</td>\n",
       "      <td>0</td>\n",
       "      <td>0</td>\n",
       "      <td>0</td>\n",
       "      <td>0</td>\n",
       "      <td>0</td>\n",
       "      <td>0</td>\n",
       "      <td>0</td>\n",
       "      <td>0</td>\n",
       "      <td>0</td>\n",
       "      <td>0</td>\n",
       "      <td>0</td>\n",
       "    </tr>\n",
       "    <tr>\n",
       "      <th>549459631</th>\n",
       "      <td>0</td>\n",
       "      <td>0</td>\n",
       "      <td>0</td>\n",
       "      <td>0</td>\n",
       "      <td>0</td>\n",
       "      <td>0</td>\n",
       "      <td>0</td>\n",
       "      <td>0</td>\n",
       "      <td>0</td>\n",
       "      <td>0</td>\n",
       "      <td>0</td>\n",
       "      <td>0</td>\n",
       "      <td>0</td>\n",
       "    </tr>\n",
       "    <tr>\n",
       "      <th>549459633</th>\n",
       "      <td>0</td>\n",
       "      <td>0</td>\n",
       "      <td>0</td>\n",
       "      <td>0</td>\n",
       "      <td>0</td>\n",
       "      <td>0</td>\n",
       "      <td>0</td>\n",
       "      <td>0</td>\n",
       "      <td>0</td>\n",
       "      <td>0</td>\n",
       "      <td>0</td>\n",
       "      <td>0</td>\n",
       "      <td>0</td>\n",
       "    </tr>\n",
       "    <tr>\n",
       "      <th>549459921</th>\n",
       "      <td>0</td>\n",
       "      <td>0</td>\n",
       "      <td>0</td>\n",
       "      <td>0</td>\n",
       "      <td>0</td>\n",
       "      <td>0</td>\n",
       "      <td>0</td>\n",
       "      <td>0</td>\n",
       "      <td>0</td>\n",
       "      <td>0</td>\n",
       "      <td>0</td>\n",
       "      <td>0</td>\n",
       "      <td>0</td>\n",
       "    </tr>\n",
       "    <tr>\n",
       "      <th>549459989</th>\n",
       "      <td>0</td>\n",
       "      <td>0</td>\n",
       "      <td>0</td>\n",
       "      <td>0</td>\n",
       "      <td>0</td>\n",
       "      <td>0</td>\n",
       "      <td>0</td>\n",
       "      <td>0</td>\n",
       "      <td>0</td>\n",
       "      <td>0</td>\n",
       "      <td>0</td>\n",
       "      <td>0</td>\n",
       "      <td>0</td>\n",
       "    </tr>\n",
       "  </tbody>\n",
       "</table>\n",
       "<p>39379 rows × 13 columns</p>\n",
       "</div>"
      ],
      "text/plain": [
       "           DMETH_REC  APGAR5  MM_MTR  MM_PLAC  MM_AICU  MTRAN  AB_AVEN1  \\\n",
       "index                                                                     \n",
       "5                  0       0       0        0        0      0         0   \n",
       "33                 0       0       0        0        0      0         0   \n",
       "63                 0       0       0        0        0      0         0   \n",
       "66                 0       0       0        1        0      0         0   \n",
       "169                0       0       0        0        0      0         0   \n",
       "...              ...     ...     ...      ...      ...    ...       ...   \n",
       "549459425          0       0       0        0        0      0         0   \n",
       "549459631          0       0       0        0        0      0         0   \n",
       "549459633          0       0       0        0        0      0         0   \n",
       "549459921          0       0       0        0        0      0         0   \n",
       "549459989          0       0       0        0        0      0         0   \n",
       "\n",
       "           AB_AVEN6  AB_NICU  AB_SURF  AB_ANTI  AB_SEIZ  comb  \n",
       "index                                                          \n",
       "5                 0        0        0        0        0     0  \n",
       "33                0        0        0        0        0     0  \n",
       "63                0        0        0        0        0     0  \n",
       "66                0        0        0        0        0     1  \n",
       "169               0        0        0        0        0     0  \n",
       "...             ...      ...      ...      ...      ...   ...  \n",
       "549459425         0        0        0        0        0     0  \n",
       "549459631         0        0        0        0        0     0  \n",
       "549459633         0        0        0        0        0     0  \n",
       "549459921         0        0        0        0        0     0  \n",
       "549459989         0        0        0        0        0     0  \n",
       "\n",
       "[39379 rows x 13 columns]"
      ]
     },
     "execution_count": 33,
     "metadata": {},
     "output_type": "execute_result"
    }
   ],
   "source": [
    "df_val"
   ]
  },
  {
   "cell_type": "code",
   "execution_count": 34,
   "metadata": {},
   "outputs": [
    {
     "data": {
      "text/plain": [
       "array([0, 1, 2, 5, 4, 3, 6, 7], dtype=int64)"
      ]
     },
     "execution_count": 34,
     "metadata": {},
     "output_type": "execute_result"
    }
   ],
   "source": [
    "df_val['comb'].unique()"
   ]
  },
  {
   "cell_type": "code",
   "execution_count": 35,
   "metadata": {},
   "outputs": [],
   "source": [
    "##if sum>0 then there is risk and is not safe\n",
    "df_risk = df_val['comb'].replace([1, 2, 4, 3, 6, 5,7,8], 1)\n"
   ]
  },
  {
   "cell_type": "code",
   "execution_count": 36,
   "metadata": {},
   "outputs": [
    {
     "data": {
      "text/plain": [
       "0    0.931816\n",
       "1    0.068184\n",
       "Name: comb, dtype: float64"
      ]
     },
     "execution_count": 36,
     "metadata": {},
     "output_type": "execute_result"
    }
   ],
   "source": [
    "df_risk.value_counts(normalize=True)"
   ]
  },
  {
   "cell_type": "code",
   "execution_count": 37,
   "metadata": {},
   "outputs": [
    {
     "data": {
      "text/plain": [
       "(39379, 12)"
      ]
     },
     "execution_count": 37,
     "metadata": {},
     "output_type": "execute_result"
    }
   ],
   "source": [
    "df_t.shape"
   ]
  },
  {
   "cell_type": "code",
   "execution_count": 38,
   "metadata": {},
   "outputs": [
    {
     "data": {
      "text/plain": [
       "(39379,)"
      ]
     },
     "execution_count": 38,
     "metadata": {},
     "output_type": "execute_result"
    }
   ],
   "source": [
    "df_risk.shape"
   ]
  },
  {
   "cell_type": "markdown",
   "metadata": {},
   "source": [
    "# Final cleaned full database"
   ]
  },
  {
   "cell_type": "code",
   "execution_count": 47,
   "metadata": {},
   "outputs": [],
   "source": [
    "df_fin = pd.concat([df, df_risk],axis=1)"
   ]
  },
  {
   "cell_type": "code",
   "execution_count": 48,
   "metadata": {},
   "outputs": [
    {
     "data": {
      "text/plain": [
       "(39379, 49)"
      ]
     },
     "execution_count": 48,
     "metadata": {},
     "output_type": "execute_result"
    }
   ],
   "source": [
    "df_fin.shape"
   ]
  },
  {
   "cell_type": "code",
   "execution_count": 49,
   "metadata": {},
   "outputs": [],
   "source": [
    "df_x = df_fin.iloc[:,0:36]\n"
   ]
  },
  {
   "cell_type": "code",
   "execution_count": 50,
   "metadata": {},
   "outputs": [
    {
     "data": {
      "text/plain": [
       "Index(['MAGER', 'PRIORLIVE', 'PRIORDEAD', 'PRIORTERM', 'LBO_REC', 'TBO_REC',\n",
       "       'ILLB_R11', 'ILP_R11', 'PRECARE', 'PREVIS', 'WIC', 'CIG_0', 'CIG_1',\n",
       "       'CIG_2', 'CIG_3', 'M_HT_IN', 'BMI', 'PWGT_R', 'DWGT_R', 'WTGAIN',\n",
       "       'ILOP_R11', 'RF_PDIAB', 'RF_GDIAB', 'RF_PHYPE', 'RF_GHYPE', 'RF_EHYPE',\n",
       "       'RF_PPTERM', 'RF_INFTR', 'RF_FEDRG', 'RF_ARTEC', 'RF_CESARN', 'IP_GON',\n",
       "       'IP_SYPH', 'IP_CHLAM', 'IP_HEPATB', 'IP_HEPATC'],\n",
       "      dtype='object')"
      ]
     },
     "execution_count": 50,
     "metadata": {},
     "output_type": "execute_result"
    }
   ],
   "source": [
    "df_x.columns"
   ]
  },
  {
   "cell_type": "code",
   "execution_count": 51,
   "metadata": {},
   "outputs": [],
   "source": [
    "df_y = df_fin.comb"
   ]
  },
  {
   "cell_type": "code",
   "execution_count": 52,
   "metadata": {},
   "outputs": [],
   "source": [
    "df_fin_fin = pd.concat([df_x, df_y],axis=1)"
   ]
  },
  {
   "cell_type": "code",
   "execution_count": 53,
   "metadata": {},
   "outputs": [],
   "source": [
    "###df_fin_fin.to_csv('fin_inpdata2018.csv', index=False)"
   ]
  },
  {
   "cell_type": "code",
   "execution_count": 54,
   "metadata": {},
   "outputs": [
    {
     "data": {
      "text/plain": [
       "(39379, 37)"
      ]
     },
     "execution_count": 54,
     "metadata": {},
     "output_type": "execute_result"
    }
   ],
   "source": [
    "df_fin_fin.shape"
   ]
  },
  {
   "cell_type": "code",
   "execution_count": null,
   "metadata": {},
   "outputs": [],
   "source": []
  }
 ],
 "metadata": {
  "kernelspec": {
   "display_name": "insight_prj",
   "language": "python",
   "name": "insight_prj"
  },
  "language_info": {
   "codemirror_mode": {
    "name": "ipython",
    "version": 3
   },
   "file_extension": ".py",
   "mimetype": "text/x-python",
   "name": "python",
   "nbconvert_exporter": "python",
   "pygments_lexer": "ipython3",
   "version": "3.7.7"
  }
 },
 "nbformat": 4,
 "nbformat_minor": 4
}
